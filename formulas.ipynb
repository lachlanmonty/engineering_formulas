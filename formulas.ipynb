{
  "nbformat": 4,
  "nbformat_minor": 2,
  "metadata": {
    "orig_nbformat": 4,
    "language_info": {
      "name": "python",
      "version": "3.7.9",
      "mimetype": "text/x-python",
      "codemirror_mode": {
        "name": "ipython",
        "version": 3
      },
      "pygments_lexer": "ipython3",
      "nbconvert_exporter": "python",
      "file_extension": ".py"
    },
    "kernelspec": {
      "name": "python3",
      "display_name": "Python 3.7.9 64-bit ('dev': conda)"
    },
    "interpreter": {
      "hash": "2db1b0deb42b532fb369406e4d785cf3316e6d1ed00c16eb1956b3a7c930621a"
    },
    "colab": {
      "name": "formulas.ipynb",
      "provenance": [],
      "toc_visible": true
    }
  },
  "cells": [
    {
      "cell_type": "markdown",
      "source": [
        "# Engineering Formulas\n",
        "Mechanical / piping engineering calculations."
      ],
      "metadata": {
        "id": "Zk2s1MqDKN_x"
      }
    },
    {
      "cell_type": "code",
      "execution_count": 1,
      "source": [
        "import numpy as np"
      ],
      "outputs": [],
      "metadata": {
        "id": "umAbbCJ3KN_0"
      }
    },
    {
      "cell_type": "markdown",
      "source": [
        "---\r\n",
        "## Basics\r\n",
        "---"
      ],
      "metadata": {
        "id": "0Ekyo3ioKN_1"
      }
    },
    {
      "cell_type": "markdown",
      "source": [
        "---\r\n",
        "### Velocity / Diameter / Flowrate"
      ],
      "metadata": {}
    },
    {
      "cell_type": "markdown",
      "source": [
        "Simply formula manipulation to make it easy to switch between velocity / diameter and flowrate.\r\n",
        "#### Formula\r\n",
        "$$ Q = AV  $$\r\n",
        "#### Parameters\r\n",
        "- A : float\r\n",
        "    - Area of pipe, [m²]\r\n",
        "- V : float\r\n",
        "    - Velocity, [m/s]\r\n",
        "\r\n",
        "#### Returns\r\n",
        "- Q : float\r\n",
        "    - Flowrate, [m³/s]\r\n",
        "#### Python Formula"
      ],
      "metadata": {
        "id": "XhcxIgDDKN_3"
      }
    },
    {
      "cell_type": "code",
      "execution_count": null,
      "source": [
        "def find_dia(Q_m3h, V_ms):\r\n",
        "    area = Q_m3h / 60 / 60 / V_ms\r\n",
        "    dia_mm = np.sqrt((4*area)/(np.pi)) * 1000\r\n",
        "    return print('Diameter =',round(dia_mm,2),'mm')\r\n",
        "\r\n",
        "def find_flow(dia_mm, V_ms):\r\n",
        "    area = (np.pi*(dia_mm/1000)**2)/4\r\n",
        "    Q_m3h = V_ms * area * 60 * 60\r\n",
        "    return print('Flowrate =',round(Q_m3h,2),'m³/s')\r\n",
        "\r\n",
        "def find_vel(dia_mm, Q_m3h):\r\n",
        "    area = (np.pi*(dia_mm/1000)**2)/4\r\n",
        "    V_ms = Q_m3h / 60 / 60 / area\r\n",
        "    return print('Velocity =',round(V_ms,2),'m/s')"
      ],
      "outputs": [],
      "metadata": {
        "id": "nSjZ5OTgKoEe"
      }
    },
    {
      "cell_type": "markdown",
      "source": [
        "#### Example"
      ],
      "metadata": {
        "id": "7LGy2iGsMFPG"
      }
    },
    {
      "cell_type": "code",
      "execution_count": null,
      "source": [
        "find_vel(dia_mm = 20, Q_m3h = 300)"
      ],
      "outputs": [
        {
          "output_type": "stream",
          "name": "stdout",
          "text": [
            "Velocity = 265.26 m/s\n"
          ]
        }
      ],
      "metadata": {
        "colab": {
          "base_uri": "https://localhost:8080/"
        },
        "id": "SqQx4g3XUlli",
        "outputId": "7031d739-453e-42be-befa-cf8331026ab9"
      }
    },
    {
      "cell_type": "markdown",
      "source": [
        "---\r\n",
        "## Fluid Mechanics\r\n",
        "---"
      ],
      "metadata": {
        "id": "Dru5suOaKN_4"
      }
    },
    {
      "cell_type": "markdown",
      "source": [
        "### Bernoulli's principle"
      ],
      "metadata": {
        "id": "PyntwVvuUCqs"
      }
    },
    {
      "cell_type": "markdown",
      "source": [
        "Bernoulli's principle states that an increase in the speed of a fluid occurs simultaneously with a decrease in static pressure or a decrease in the fluid's potential energy.\r\n",
        "#### Formula\r\n",
        "$$ P_1 + \\frac{1}{2} \\rho v_1^2 +\\rho g h = \r\n",
        "  P_2 + \\frac{1}{2} \\rho v_2^2 +\\rho g h $$\r\n",
        "#### Parameters\r\n",
        "- P : float\r\n",
        "   - Pressure Energy, [Pa]\r\n",
        "- $\\rho$ : float\r\n",
        "   - Density of the fluid, [kg/m³]\r\n",
        "- v : float\r\n",
        "   - Velocity of fluid, [m/s]\r\n",
        "- h : float\r\n",
        "  - Physical Height, [m]\r\n",
        "- g : float\r\n",
        "    - Gravitational acceleration = 9.81, [m/s²]"
      ],
      "metadata": {}
    },
    {
      "cell_type": "code",
      "execution_count": 16,
      "source": [
        "def pumphead (delta_h, fric_f, L_m, d_mm , Ktotal, V, P1, P2, rho):\r\n",
        "        return ((P2-P1)*1000/(rho*g)) + (delta_h) + (( fric_f * (L/(d/1000)) + Ktotal ) * ((V**2)/(2*g)))"
      ],
      "outputs": [],
      "metadata": {
        "id": "fJ29aAjCpeLh"
      }
    },
    {
      "cell_type": "markdown",
      "source": [
        "#### References\r\n",
        "[1] Yunus Cengel, Fluid Mechanics. eq. (8–55). 4th edition. 2017."
      ],
      "metadata": {
        "id": "4qF-ClD1cAv3"
      }
    },
    {
      "cell_type": "markdown",
      "source": [
        "---\r\n",
        "### Friction loss through pipe"
      ],
      "metadata": {}
    },
    {
      "cell_type": "markdown",
      "source": [
        "#### Formula\r\n",
        "$$ h_L = f\\frac{L}{D}\\frac{V^2}{2g}  $$\r\n",
        "#### Parameters\r\n",
        "- f : float\r\n",
        "    - Darcy Friction Factor, [-]\r\n",
        "- L : float\r\n",
        "    - Length of pipe, [m]\r\n",
        "- D : float\r\n",
        "    - Inner diameter of pipe, [m]\r\n",
        "- V : float\r\n",
        "    - Velocity of fluid, [m/s]\r\n",
        "- g : float\r\n",
        "    - Gravitational acceleration = 9.81, [m/s²]\r\n",
        "\r\n",
        "#### Returns\r\n",
        "- h_l : float\r\n",
        "    - Head loss, [m]\r\n",
        "#### Python Formula"
      ],
      "metadata": {
        "id": "NsF2vNj6KN_4"
      }
    },
    {
      "cell_type": "code",
      "execution_count": 1,
      "source": [
        "def friction_loss(f, L, D, V, g = 9.81):\r\n",
        "\r\n",
        "    h_l = f * (L/D) * ((V**2) / (2*g))\r\n",
        "\r\n",
        "    return h_l"
      ],
      "outputs": [],
      "metadata": {
        "id": "KV3FcGeeKN_7"
      }
    },
    {
      "cell_type": "markdown",
      "source": [
        "#### Example"
      ],
      "metadata": {
        "id": "Vl2qZqKBKN_8"
      }
    },
    {
      "cell_type": "code",
      "execution_count": 2,
      "source": [
        "friction_loss(0.019, 1000, 0.254, 2.3)"
      ],
      "outputs": [
        {
          "output_type": "execute_result",
          "data": {
            "text/plain": [
              "20.168637177233574"
            ]
          },
          "metadata": {},
          "execution_count": 2
        }
      ],
      "metadata": {
        "id": "gGYshn4NKN_8",
        "colab": {
          "base_uri": "https://localhost:8080/"
        },
        "outputId": "1e5cce5a-1fc3-4ce6-b53f-0101bf005746"
      }
    },
    {
      "cell_type": "markdown",
      "source": [
        "#### References\n",
        "[1] Yunus Cengel, Fluid Mechanics. eq. (8-24). 4th edition. 2017."
      ],
      "metadata": {
        "id": "A13TOgE4KN_9"
      }
    },
    {
      "cell_type": "markdown",
      "source": [
        "---\r\n",
        "### Flow Discharge Factor - K Factor"
      ],
      "metadata": {}
    },
    {
      "cell_type": "markdown",
      "source": [
        "#### Formula\r\n",
        "$$ K_L = \\frac{h_L}{V^2/(2g)} $$\r\n",
        "#### Parameters\r\n",
        "- h_L : float\r\n",
        "    - Head losses through fitting, [m]\r\n",
        "- V : float\r\n",
        "    - Velocity of fluid, [m/s]\r\n",
        "- g : float\r\n",
        "    - Gravitational acceleration = 9.81, [m/s²]\r\n",
        "\r\n",
        "#### Returns\r\n",
        "- K_L : float\r\n",
        "    - Flow Discharge Factor, [-]\r\n",
        "    \r\n",
        "#### Python Formula"
      ],
      "metadata": {
        "id": "byaBUtVUKN_-"
      }
    },
    {
      "cell_type": "code",
      "execution_count": 14,
      "source": [
        "def k_factor(h_L, V, g = 9.81):\r\n",
        "  K_L = (h_L*2*g)/(V**2)\r\n",
        "  return K_L"
      ],
      "outputs": [],
      "metadata": {
        "id": "aXe9Qq75o69G"
      }
    },
    {
      "cell_type": "markdown",
      "source": [
        "#### Example"
      ],
      "metadata": {
        "id": "pnnZEqqhpX2N"
      }
    },
    {
      "cell_type": "code",
      "execution_count": 15,
      "source": [
        "k_factor(0.5, 3)"
      ],
      "outputs": [
        {
          "output_type": "execute_result",
          "data": {
            "text/plain": [
              "1.09"
            ]
          },
          "metadata": {},
          "execution_count": 15
        }
      ],
      "metadata": {
        "colab": {
          "base_uri": "https://localhost:8080/"
        },
        "id": "XHrBZqKro5Nf",
        "outputId": "653d8109-16ee-48cb-d788-c42c3489ae63"
      }
    },
    {
      "cell_type": "markdown",
      "source": [
        "#### References\r\n",
        "[1] Yunus Cengel, Fluid Mechanics. eq. (8–55). 4th edition. 2017."
      ],
      "metadata": {
        "id": "d1HxwyK8qGO2"
      }
    },
    {
      "cell_type": "markdown",
      "source": [
        "---\r\n",
        "### Relationship Between Flow Coefficient and Resistance Coefficient"
      ],
      "metadata": {}
    },
    {
      "cell_type": "markdown",
      "source": [
        "#### Formula\r\n",
        "$$ K = 0.00214\\frac{d^4}{C_v^2} $$\r\n",
        "#### Parameters\r\n",
        "- d : float\r\n",
        "    - Diameter, [mm]\r\n",
        "- C_v : float\r\n",
        "    - Flow coefficient, [gal/min]\r\n",
        "\r\n",
        "#### Returns\r\n",
        "- K : float\r\n",
        "    - Flow Discharge Factor, [-]\r\n",
        "#### Python Equation"
      ],
      "metadata": {}
    },
    {
      "cell_type": "code",
      "execution_count": 17,
      "source": [
        "def flow_to_resist_coef(d, C_v):\r\n",
        "    K = 0.00214 * ((d**4) / (C_v**2))\r\n",
        "    return K"
      ],
      "outputs": [],
      "metadata": {}
    },
    {
      "cell_type": "markdown",
      "source": [
        "#### Example"
      ],
      "metadata": {}
    },
    {
      "cell_type": "code",
      "execution_count": 11,
      "source": [
        "flow_to_resist_coef(80, 140)"
      ],
      "outputs": [
        {
          "output_type": "execute_result",
          "data": {
            "text/plain": [
              "4.472163265306122"
            ]
          },
          "metadata": {},
          "execution_count": 11
        }
      ],
      "metadata": {}
    },
    {
      "cell_type": "markdown",
      "source": [
        "#### Reference\r\n",
        "[Relationship Between Flow Coefficient and Resistance Coefficient](http://kb.eng-software.com/eskb/ask-an-engineer/theory-equations-and-calculated-results-questions/relationship-between-flow-coefficient-and-resistance-coefficient)"
      ],
      "metadata": {}
    }
  ]
}