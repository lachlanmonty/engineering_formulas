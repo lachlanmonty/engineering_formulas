{
 "cells": [
  {
   "cell_type": "markdown",
   "source": [
    "# Engineering Formulas\n",
    "Mechanical / piping engineering calculations."
   ],
   "metadata": {
    "id": "Zk2s1MqDKN_x"
   }
  },
  {
   "cell_type": "code",
   "execution_count": 9,
   "source": [
    "import math\r\n",
    "import numpy as np\r\n",
    "import pandas as pd"
   ],
   "outputs": [],
   "metadata": {
    "id": "umAbbCJ3KN_0"
   }
  },
  {
   "cell_type": "markdown",
   "source": [
    "# Basics"
   ],
   "metadata": {
    "id": "0Ekyo3ioKN_1"
   }
  },
  {
   "cell_type": "markdown",
   "source": [
    "---\r\n",
    "## Velocity / Diameter / Flowrate\r\n",
    "\r\n",
    "Simply formula manipulation to make it easy to switch between velocity / diameter and flowrate.\r\n",
    "\r\n",
    "**Formula**\r\n",
    "$$ Q = AV  $$\r\n",
    "\r\n",
    "**Parameters**\r\n",
    "- A : float\r\n",
    "    - Area of pipe, [m²]\r\n",
    "- V : float\r\n",
    "    - Velocity, [m/s]\r\n",
    "- Q : float\r\n",
    "    - Flowrate, [m³/s]\r\n",
    "**Returns**\r\n",
    "\r\n",
    "Various\r\n",
    "\r\n",
    "**Python Formula**"
   ],
   "metadata": {
    "id": "XhcxIgDDKN_3"
   }
  },
  {
   "cell_type": "code",
   "execution_count": 3,
   "source": [
    "def vel_dia_flo(Q_m3h = None, V_ms = None, dia_mm = None):\r\n",
    "    list = [Q_m3h, V_ms, dia_mm]\r\n",
    "    if sum([v is None for v in list]) == 1:\r\n",
    "        if Q_m3h is None:\r\n",
    "            return V_ms * (math.pi*(dia_mm/1000)**2)/4 * 60 * 60\r\n",
    "        elif V_ms is None:\r\n",
    "            return Q_m3h / 60 / 60 / (math.pi*(dia_mm/1000)**2)/4\r\n",
    "        elif dia_mm is None:\r\n",
    "            return math.sqrt((4*(Q_m3h / 60 / 60 / V_ms))/(math.pi)) * 1000\r\n",
    "    elif sum([v is None for v in list]) == 0:\r\n",
    "        return 'too many variables'\r\n",
    "    else:\r\n",
    "        return 'missing variables'"
   ],
   "outputs": [],
   "metadata": {
    "id": "nSjZ5OTgKoEe"
   }
  },
  {
   "cell_type": "markdown",
   "source": [
    "**Example**"
   ],
   "metadata": {
    "id": "7LGy2iGsMFPG"
   }
  },
  {
   "cell_type": "code",
   "execution_count": 12,
   "source": [
    "Q_m3h     = None\r\n",
    "V_ms      = 2.5\r\n",
    "dia_mm    = 254\r\n",
    "\r\n",
    "vel_dia_flo(Q_m3h, V_ms, dia_mm)"
   ],
   "outputs": [
    {
     "output_type": "execute_result",
     "data": {
      "text/plain": [
       "456.036731187748"
      ]
     },
     "metadata": {},
     "execution_count": 12
    }
   ],
   "metadata": {
    "colab": {
     "base_uri": "https://localhost:8080/"
    },
    "id": "SqQx4g3XUlli",
    "outputId": "7031d739-453e-42be-befa-cf8331026ab9"
   }
  },
  {
   "cell_type": "markdown",
   "source": [
    "# Fluid Mechanics"
   ],
   "metadata": {
    "id": "Dru5suOaKN_4"
   }
  },
  {
   "cell_type": "markdown",
   "source": [
    "## Bernoulli's principle"
   ],
   "metadata": {
    "id": "PyntwVvuUCqs"
   }
  },
  {
   "cell_type": "markdown",
   "source": [
    "Bernoulli's principle states that an increase in the speed of a fluid occurs simultaneously with a decrease in static pressure or a decrease in the fluid's potential energy.\n",
    "\n",
    "**Formula**\n",
    "$$ P_1 + \\frac{1}{2} \\rho v_1^2 +\\rho g h_1 = \n",
    "  P_2 + \\frac{1}{2} \\rho v_2^2 +\\rho g h_2 $$\n",
    "  \n",
    "**Parameters**\n",
    "- P : float\n",
    "   - Pressure Energy, [Pa]\n",
    "- $\\rho$ : float\n",
    "   - Density of the fluid, [kg/m³]\n",
    "- v : float\n",
    "   - Velocity of fluid, [m/s]\n",
    "- h : float\n",
    "  - Physical Height, [m]\n",
    "- g : float\n",
    "    - Gravitational acceleration = 9.81, [m/s²]"
   ],
   "metadata": {}
  },
  {
   "cell_type": "code",
   "execution_count": 4,
   "source": [
    "def pumphead (delta_h, fric_f, L_m, d_mm , Ktotal, V, P1, P2, rho, g = 9.81):\r\n",
    "    h_pump = ((P2-P1)*1000/(rho*g)) + (delta_h) + (( fric_f * (L_m/(d_mm/1000)) + Ktotal ) * ((V**2)/(2*g)))\r\n",
    "    return h_pump"
   ],
   "outputs": [],
   "metadata": {
    "id": "fJ29aAjCpeLh"
   }
  },
  {
   "cell_type": "markdown",
   "source": [
    "**Example**"
   ],
   "metadata": {}
  },
  {
   "cell_type": "code",
   "execution_count": 5,
   "source": [
    "delta_h = 20\r\n",
    "fric_f  = 0.0014\r\n",
    "L_m     = 200\r\n",
    "d_mm    = 250\r\n",
    "Ktotal  = 2\r\n",
    "V       = 2.8\r\n",
    "P1      = 100E3\r\n",
    "P2      = 100E3\r\n",
    "rho     = 1100\r\n",
    "\r\n",
    "pumphead(delta_h, fric_f, L_m, d_mm , Ktotal, V, P1, P2, rho)"
   ],
   "outputs": [
    {
     "output_type": "execute_result",
     "data": {
      "text/plain": [
       "21.246727828746177"
      ]
     },
     "metadata": {},
     "execution_count": 5
    }
   ],
   "metadata": {}
  },
  {
   "cell_type": "markdown",
   "source": [
    "**References**\n",
    "\n",
    "[1] Yunus Cengel, Fluid Mechanics. eq. (8–55). 4th edition. 2017."
   ],
   "metadata": {
    "id": "4qF-ClD1cAv3",
    "tags": []
   }
  },
  {
   "cell_type": "markdown",
   "source": [
    "---\n",
    "## Friction loss through pipe"
   ],
   "metadata": {}
  },
  {
   "cell_type": "markdown",
   "source": [
    "**Formula**\n",
    "$$ h_L = f\\frac{L}{D}\\frac{V^2}{2g}  $$\n",
    "**Parameters**\n",
    "- f : float\n",
    "    - Darcy Friction Factor, [-]\n",
    "- L : float\n",
    "    - Length of pipe, [m]\n",
    "- D : float\n",
    "    - Inner diameter of pipe, [m]\n",
    "- V : float\n",
    "    - Velocity of fluid, [m/s]\n",
    "- g : float\n",
    "    - Gravitational acceleration = 9.81, [m/s²]\n",
    "\n",
    "**Returns**\n",
    "- h_l : float\n",
    "    - Head loss, [m]\n",
    "\n",
    "**Python Formula**"
   ],
   "metadata": {
    "id": "NsF2vNj6KN_4",
    "tags": [],
    "toc-hr-collapsed": true
   }
  },
  {
   "cell_type": "code",
   "execution_count": 6,
   "source": [
    "def friction_loss(f, L, D, V, g = 9.81):\r\n",
    "    h_l = f * (L/D) * ((V**2) / (2*g))\r\n",
    "    return h_l"
   ],
   "outputs": [],
   "metadata": {
    "id": "KV3FcGeeKN_7"
   }
  },
  {
   "cell_type": "markdown",
   "source": [
    "**Example**"
   ],
   "metadata": {
    "id": "Vl2qZqKBKN_8"
   }
  },
  {
   "cell_type": "code",
   "execution_count": 7,
   "source": [
    "friction_loss(0.019, 1000, 0.254, 2.3)"
   ],
   "outputs": [
    {
     "output_type": "execute_result",
     "data": {
      "text/plain": [
       "20.168637177233574"
      ]
     },
     "metadata": {},
     "execution_count": 7
    }
   ],
   "metadata": {
    "colab": {
     "base_uri": "https://localhost:8080/"
    },
    "id": "gGYshn4NKN_8",
    "outputId": "1e5cce5a-1fc3-4ce6-b53f-0101bf005746"
   }
  },
  {
   "cell_type": "markdown",
   "source": [
    "**References**\n",
    "\n",
    "[1] Yunus Cengel, Fluid Mechanics. eq. (8-24). 4th edition. 2017."
   ],
   "metadata": {
    "id": "A13TOgE4KN_9"
   }
  },
  {
   "cell_type": "markdown",
   "source": [
    "---\n",
    "## Reynolds number\n",
    "\n",
    "**Formula**\n",
    "$$ R_e = \\frac{\\rho V D}{\\mu}  $$\n",
    "**Parameters**\n",
    "- $\\rho$ : float\n",
    "   - Density of the fluid, [kg/m³]\n",
    "- $\\mu$ : float\n",
    "    - Dynamic viscosity of the fluid, [Pa.s]\n",
    "- D : float\n",
    "    - Inner diameter of pipe, [m]\n",
    "- V : float\n",
    "    - Velocity of fluid, [m/s]\n",
    "\n",
    "**Returns**\n",
    "- $R_e$ : float\n",
    "    - Reynolds number, [-]\n",
    "\n",
    "**Python Formula**"
   ],
   "metadata": {}
  },
  {
   "cell_type": "code",
   "execution_count": 8,
   "source": [
    "def re_number(rho, mu, D, V):\r\n",
    "    r_e = (rho * V * D) / mu \r\n",
    "    return r_e"
   ],
   "outputs": [],
   "metadata": {}
  },
  {
   "cell_type": "markdown",
   "source": [
    "**Example**"
   ],
   "metadata": {}
  },
  {
   "cell_type": "code",
   "execution_count": 9,
   "source": [
    "rho = 1100\r\n",
    "mu  = 0.001\r\n",
    "D   = 0.7366\r\n",
    "V   = 2.6\r\n",
    "\r\n",
    "re_number(rho, mu, D,  V)"
   ],
   "outputs": [
    {
     "output_type": "execute_result",
     "data": {
      "text/plain": [
       "2106676.0"
      ]
     },
     "metadata": {},
     "execution_count": 9
    }
   ],
   "metadata": {}
  },
  {
   "cell_type": "markdown",
   "source": [
    "**References**\n",
    "\n",
    "[1] Yunus Cengel, Fluid Mechanics. 4th edition. 2017."
   ],
   "metadata": {}
  },
  {
   "cell_type": "markdown",
   "source": [
    "---\n",
    "## Pump Power\n",
    "\n",
    "**Formula**\n",
    "$$ P = \\frac{\\rho g Q H}{\\eta} $$\n",
    "**Parameters**\n",
    "- $\\rho$ : float\n",
    "   - Density of the fluid, [kg/m³]\n",
    "- g : float\n",
    "    - Gravitational acceleration = 9.81, [m/s²]\n",
    "- Q : float\n",
    "    - Flowrate, [m3/s]\n",
    "- H : float\n",
    "    - Pump head produced, [m]\n",
    "- $\\eta$ : float\n",
    "    - Efficiency, [%]\n",
    "\n",
    "**Returns**\n",
    "- $P$ : float\n",
    "    - Pump Power, [W]\n",
    "\n",
    "**Python Formula**"
   ],
   "metadata": {}
  },
  {
   "cell_type": "code",
   "execution_count": 3,
   "source": [
    "def pump_power(rho, Q_m3h, H, eta, g = 9.81):\r\n",
    "    Q_m3s = Q_m3h / 60 / 60\r\n",
    "    P = (rho*g*Q_m3s*H)/eta\r\n",
    "    return P"
   ],
   "outputs": [],
   "metadata": {}
  },
  {
   "cell_type": "markdown",
   "source": [
    "**Example**"
   ],
   "metadata": {}
  },
  {
   "cell_type": "code",
   "execution_count": 4,
   "source": [
    "rho    = 936\r\n",
    "Q_m3h  = 1613\r\n",
    "H      = 64.08\r\n",
    "eta    = 0.7\r\n",
    "\r\n",
    "round(pump_power(rho, Q_m3h, H, eta) / 1000, 2) # kw"
   ],
   "outputs": [
    {
     "output_type": "execute_result",
     "data": {
      "text/plain": [
       "376.62"
      ]
     },
     "metadata": {},
     "execution_count": 4
    }
   ],
   "metadata": {}
  },
  {
   "cell_type": "markdown",
   "source": [
    "**References**\n",
    "\n",
    "[1] Yunus Cengel, Fluid Mechanics. 4th edition. 2017."
   ],
   "metadata": {}
  },
  {
   "cell_type": "markdown",
   "source": [
    "---\n",
    "## Pump Affinity Laws\n",
    "\n",
    "**Formula**\n",
    "$$ \\frac{\\dot{V_B}}{\\dot{V_A}} = \\frac{\\omega{_B}}{\\omega{_A}} \\left(\\frac{D_B}{D_A}\\right)^3 $$\n",
    "\n",
    "$$ \\frac{H_B}{H_A} = \\left(\\frac{\\omega{_B}}{\\omega{_A}}\\right)^2 \\left(\\frac{D_B}{D_A}\\right)^2 $$\n",
    "\n",
    "$$ \\frac{P_B}{P_A} = \\frac{\\rho{_B}}{\\rho{_A}} \\left(\\frac{\\omega{_B}}{\\omega{_A}}\\right)^3 \\left(\\frac{D_B}{D_A}\\right)^5 $$\n",
    "\n",
    "**Parameters**\n",
    "\n",
    "- $\\dot{V}$ : float\n",
    "    - Volume flow rate, [m³/s]\n",
    "- $\\omega$ : float\n",
    "    - Angular frequency, [rad/s]\n",
    "- D : float\n",
    "    - Diameter of impeller, [m]\n",
    "- H : float\n",
    "    - Pump head, [m]\n",
    "- P : float\n",
    "    - Pump power, [W]\n",
    "- $\\rho$ : float\n",
    "   - Density of the fluid, [kg/m³]\n",
    "\n",
    "**Returns**\n",
    "- $\\dot{V_B}$ : float\n",
    "    - Volume flow rate, [m³/s]\n",
    "\n",
    "or\n",
    "- $H_B$ : float\n",
    "    - Pump head, [m]\n",
    "\n",
    "or\n",
    "- $P$ : float\n",
    "    - Pump power, [W]\n",
    "\n",
    "**Python Formula**"
   ],
   "metadata": {
    "tags": []
   }
  },
  {
   "cell_type": "code",
   "execution_count": 5,
   "source": [
    "def affinity_flow(V_A, omega_A, omega_B, D_A, D_B):\r\n",
    "    V_B = V_A * (omega_B/omega_A) * (D_B/D_A)**3\r\n",
    "    return V_B\r\n",
    "\r\n",
    "def affinity_head(H_A, omega_A, omega_B, D_A, D_B):\r\n",
    "    H_B = H_A * (omega_B/omega_A)**2 * (D_B/D_A)**2\r\n",
    "    return H_B\r\n",
    "\r\n",
    "def affinity_power(P_A, rho_A, rho_B, omega_A, omega_B, D_A, D_B):\r\n",
    "    P_B = P_A * (rho_B/rho_A)*(omega_B/omega_A)**3 * (D_B/D_A)**5\r\n",
    "    return P_B"
   ],
   "outputs": [],
   "metadata": {}
  },
  {
   "cell_type": "markdown",
   "source": [
    "**Example**"
   ],
   "metadata": {}
  },
  {
   "cell_type": "code",
   "execution_count": 4,
   "source": [
    "affinity_power(200, 1000, 1000, 1500, 2000, 500, 480)"
   ],
   "outputs": [
    {
     "output_type": "execute_result",
     "data": {
      "text/plain": [
       "386.5470566399998"
      ]
     },
     "metadata": {},
     "execution_count": 4
    }
   ],
   "metadata": {}
  },
  {
   "cell_type": "markdown",
   "source": [
    "**References**\n",
    "\n",
    "[1] Yunus Cengel, Fluid Mechanics pg. 777. 4th edition. 2017."
   ],
   "metadata": {}
  },
  {
   "cell_type": "markdown",
   "source": [
    "---\n",
    "## Flow Discharge Factor - K Factor\n",
    "**Formula**\n",
    "$$ K_L = \\frac{h_L}{V^2/(2g)} $$\n",
    "\n",
    "**Parameters**\n",
    "- h_L : float\n",
    "    - Head losses through fitting, [m]\n",
    "- V : float\n",
    "    - Velocity of fluid, [m/s]\n",
    "- g : float\n",
    "    - Gravitational acceleration = 9.81, [m/s²]\n",
    "\n",
    "**Returns**\n",
    "- K_L : float\n",
    "    - Flow Discharge Factor, [-]\n",
    "    \n",
    "**Python Formula**"
   ],
   "metadata": {
    "id": "byaBUtVUKN_-"
   }
  },
  {
   "cell_type": "code",
   "execution_count": 14,
   "source": [
    "def k_factor(h_L, V, g = 9.81):\r\n",
    "  K_L = (h_L*2*g)/(V**2)\r\n",
    "  return K_L"
   ],
   "outputs": [],
   "metadata": {
    "id": "aXe9Qq75o69G"
   }
  },
  {
   "cell_type": "markdown",
   "source": [
    "**Example**"
   ],
   "metadata": {
    "id": "pnnZEqqhpX2N"
   }
  },
  {
   "cell_type": "code",
   "execution_count": 15,
   "source": [
    "h = 150\r\n",
    "v = 3.2\r\n",
    "\r\n",
    "k_factor(h, v)"
   ],
   "outputs": [
    {
     "output_type": "execute_result",
     "data": {
      "text/plain": [
       "287.40234374999994"
      ]
     },
     "metadata": {},
     "execution_count": 15
    }
   ],
   "metadata": {
    "colab": {
     "base_uri": "https://localhost:8080/"
    },
    "id": "XHrBZqKro5Nf",
    "outputId": "653d8109-16ee-48cb-d788-c42c3489ae63"
   }
  },
  {
   "cell_type": "markdown",
   "source": [
    "**References**\n",
    "\n",
    "[1] Yunus Cengel, Fluid Mechanics. eq. (8–55). 4th edition. 2017."
   ],
   "metadata": {
    "id": "d1HxwyK8qGO2"
   }
  },
  {
   "cell_type": "markdown",
   "source": [
    "---\n",
    "## Relationship Between Flow Coefficient and Resistance Coefficient"
   ],
   "metadata": {}
  },
  {
   "cell_type": "markdown",
   "source": [
    "**Formula**\n",
    "$$ K = 0.00214\\frac{d^4}{C_v^2} $$\n",
    "**Parameters**\n",
    "- d : float\n",
    "    - Diameter, [mm]\n",
    "- C_v : float\n",
    "    - Flow coefficient, [gal/min]\n",
    "\n",
    "**Returns**\n",
    "- K : float\n",
    "    - Flow Discharge Factor, [-]\n",
    "\n",
    "**Python Equation**"
   ],
   "metadata": {}
  },
  {
   "cell_type": "code",
   "execution_count": 16,
   "source": [
    "def flow_to_resist_coef(d, C_v):\r\n",
    "    K = 0.00214 * ((d**4) / (C_v**2))\r\n",
    "    return K"
   ],
   "outputs": [],
   "metadata": {}
  },
  {
   "cell_type": "markdown",
   "source": [
    "**Example**"
   ],
   "metadata": {}
  },
  {
   "cell_type": "code",
   "execution_count": 17,
   "source": [
    "flow_to_resist_coef(72.8, 140)"
   ],
   "outputs": [
    {
     "output_type": "execute_result",
     "data": {
      "text/plain": [
       "3.0667842150399993"
      ]
     },
     "metadata": {},
     "execution_count": 17
    }
   ],
   "metadata": {}
  },
  {
   "cell_type": "markdown",
   "source": [
    "**Reference**\n",
    "\n",
    "[Relationship Between Flow Coefficient and Resistance Coefficient](http://kb.eng-software.com/eskb/ask-an-engineer/theory-equations-and-calculated-results-questions/relationship-between-flow-coefficient-and-resistance-coefficient)"
   ],
   "metadata": {}
  },
  {
   "cell_type": "markdown",
   "source": [
    "---\n",
    "## Open Channel Flow"
   ],
   "metadata": {}
  },
  {
   "cell_type": "markdown",
   "source": [
    "**Summary**\n",
    "- Generally target 50% fillage\n",
    "- No single mathematical model to represent slurry flows in open channels\n",
    "- Max practical limit of slurry concentration is 65 wt%\n",
    "\n",
    "**Dimensions**\n",
    "\n",
    "Hydraulic Radius = area of the flow : wetted perimeter\n",
    "$$R_H = \\frac{A}{P}$$\n",
    "Hydraulic Diameter\n",
    "$$D_H = \\frac{4A}{P}$$\n",
    "\n",
    "**Hydraulic Diameter Dimensions**\n",
    "\n",
    "<center><img src=\"images/hyd_rad.png\" width=\"500\"></center>\n",
    "\n",
    "### Froude Number\n",
    "- Is a measure of the stability of flow in an open channel. Ratio of the fluids' inertia to gravity forces.\n",
    "\n",
    "**Slurry**\n",
    "- Below 1.5 there is risk of settling and instability / wavy motion\n",
    "- Above 5 there is risk of [[Slug flow]] which causes instability in the form of roll waves\n",
    "\n",
    "$$1.5 < F_r < 5$$\n",
    "\n",
    "**Water**\n",
    "- Sub-critical flow for water (Fr less than 0.8) is not a problem as there is no risk of settling. Therefore:\n",
    "\n",
    "$$F_r < 0.8 $$ or $$F_r > 1.2$$\n",
    "\n",
    "**Equation**\n",
    "\n",
    "$$F_r =\\frac{V}{\\sqrt{g*y_m}}$$\n",
    "\n",
    "**Parameters**\n",
    "- y_m : float\n",
    "    - Average depth of the liquid, [m]\n",
    "- V : float\n",
    "    - Velocity of fluid, [m/s]\n",
    "- g : float\n",
    "    - Gravitational acceleration = 9.81, [m/s²]\n",
    "\n",
    "**Returns**\n",
    "- Fr : float\n",
    "    -  Froude Number, [-]\n",
    "\n",
    "**Python Equation**\n"
   ],
   "metadata": {}
  },
  {
   "cell_type": "code",
   "execution_count": 4,
   "source": [
    "def froude_no(V, y_m, g = 9.81):\r\n",
    "    return V / math.sqrt(g * y_m)"
   ],
   "outputs": [],
   "metadata": {}
  },
  {
   "cell_type": "markdown",
   "source": [
    "**Example**"
   ],
   "metadata": {}
  },
  {
   "cell_type": "code",
   "execution_count": 19,
   "source": [
    "V   = 3\r\n",
    "y_m = 0.5\r\n",
    "\r\n",
    "froude_no(V, y_m)"
   ],
   "outputs": [
    {
     "output_type": "execute_result",
     "data": {
      "text/plain": [
       "1.3545709229571927"
      ]
     },
     "metadata": {},
     "execution_count": 19
    }
   ],
   "metadata": {}
  },
  {
   "cell_type": "markdown",
   "source": [
    "**References**\n",
    "\n",
    "[1]: SLURRY SYSTEMS HANDBOOK. BAHA E. ABULNAGA, P.E. 2002"
   ],
   "metadata": {}
  },
  {
   "cell_type": "markdown",
   "source": [
    "### Fillage Calculation"
   ],
   "metadata": {}
  },
  {
   "cell_type": "code",
   "execution_count": 6,
   "source": [
    "def fillage_calc(Q_m3h, H1_highspot, H2_lowspot, Length_pipe, ID_m, f_d):\r\n",
    "    h_delta = H1_highspot-H2_lowspot\r\n",
    "    r = ID_m/2         # radius\r\n",
    "    A_pipe = (np.pi * ID_m ** 2)/4\r\n",
    "    df = pd.DataFrame(data= {'theta_deg': np.linspace(0.1,180,1800)})\r\n",
    "    df['theta'] = np.deg2rad(df['theta_deg'])\r\n",
    "    df['R_h'] = (r*(df['theta']-np.sin(df['theta'])*np.cos(df['theta']))\r\n",
    "                 )/(2*df['theta'])\r\n",
    "    df['A_c'] = r**2*(df['theta']-np.sin(df['theta'])*np.cos(df['theta']))\r\n",
    "    df['y'] = r*(1-np.cos(df['theta']))     # Height of the liquid\r\n",
    "    df['fillage'] = df['y']/ ID_m *100      # % fillage\r\n",
    "    df['V_L'] = (Q_m3h/60/60)/(df['A_c'])   # Velocity of the liquid\r\n",
    "    df['h_fric'] = (f_d * Length_pipe * df['V_L'] **2 )/(2*9.81*4*df['R_h'])\r\n",
    "        \r\n",
    "    # Find closest match of fricion loss to the elevation difference\r\n",
    "    result_index = df['h_fric'].sub(h_delta).abs().idxmin()\r\n",
    "    # Check Froude Number\r\n",
    "    Fr = df['V_L'][result_index] / np.sqrt(9.81 * df['y'][result_index])\r\n",
    "    fillage = df['fillage'][result_index]\r\n",
    "    \r\n",
    "    # Assuming that the velocity of the slurry is equal to the air velocity\r\n",
    "    Q_air = df['V_L'][result_index] * A_pipe * 60 * 60 - Q_m3h\r\n",
    "    \r\n",
    "    results = pd.DataFrame({'fillage %':[fillage],\r\n",
    "                            'Froude No.':[Fr],\r\n",
    "                            'Velocity':[df['V_L'][result_index]],\r\n",
    "                            'Vent Air Flow Req. m3/h':[Q_air]})\r\n",
    "    return results"
   ],
   "outputs": [],
   "metadata": {}
  },
  {
   "cell_type": "markdown",
   "source": [
    "**Example**"
   ],
   "metadata": {}
  },
  {
   "cell_type": "code",
   "execution_count": 7,
   "source": [
    "Q_m3h        = 420\r\n",
    "H1_highspot  = 30\r\n",
    "H2_lowspot   = 0\r\n",
    "Length_pipe  = 200\r\n",
    "ID_m         = 0.254\r\n",
    "f_d          = 0.05\r\n",
    "\r\n",
    "fillage_calc(Q_m3h, H1_highspot, H2_lowspot, Length_pipe, ID_m, f_d)"
   ],
   "outputs": [
    {
     "output_type": "execute_result",
     "data": {
      "text/plain": [
       "3.141592653589793"
      ]
     },
     "metadata": {},
     "execution_count": 7
    }
   ],
   "metadata": {}
  },
  {
   "cell_type": "markdown",
   "source": [
    "**References**\n",
    "\n",
    "[1] Yunus Cengel, Fluid Mechanics pg. 777. 4th edition. 2017."
   ],
   "metadata": {}
  },
  {
   "cell_type": "markdown",
   "source": [
    "# Slurry"
   ],
   "metadata": {}
  },
  {
   "cell_type": "markdown",
   "source": [
    "## Slurry Concentrations"
   ],
   "metadata": {}
  },
  {
   "cell_type": "markdown",
   "source": [
    "### SG & Concentration Conversions\n",
    "For any slurries, when any three of the five variables are known, the fourth and fifth may be calculated from the equations shown below. Alternatively the diagram below may be used for the same purpose although that diagram cannot be used to calculate Sw.\n",
    "\n",
    "<center><img src=\"images/slurry_conversions.png\" width=\"700\"></center>\n",
    "\n",
    "**Equations**\n",
    "\n",
    "| Find  | No 1.                                 | No. 2                         | No. 3                                 |\n",
    "|:----: |    :----:                             |    :----:                     |    :----:                             |\n",
    "| $S_w$ | $$ S(S_m C_w–S_m) / (S_m C_w–S) $$    | $$ (S C_v–S_m) / (C_v–1) $$   | $$ S[C_v(C_w–1)] / [C_w(C_v–1)] $$    |\n",
    "| $S$   | $$ S_w C_w(C_v–1) / [C_v(C_w–1)] $$   | $$ S_w+(S_m–S_w) / C_v $$     | $$ S_wC_w / (C_w–1+S_w/S_m) $$        |\n",
    "| $S_m$ | $$ S_w / [1–C_w(1–S_w/S)] $$          | $$ S_w+C_v(S–S_w) $$          | $$ S_w(C_v–1) / (C_w–1) $$            |\n",
    "| $C_w$ | $$ S(S_m–S_w) / [S_m(S–S_w)] $$       | $$ SC_v / [S_w+C_v(S–S_w)] $$ | $$ 1+S_w(C_v–1) / S_m $$              |\n",
    "| $C_v$ | $$ (S_m–S_w) / (S–S_w) $$             | $$ S_w / (S_w–S+S/C_w) $$     | $$ 1+S_m(C_w–1) / S_w $$              |\n",
    "\n",
    "**Parameters**\n",
    "- $S_w$ : float\n",
    "    - SG of liquid, usually water at 20°C = 1, [-]\n",
    "- $S$ : float\n",
    "    - SG of dry solids, [-]\n",
    "- $S_m$ : float\n",
    "    - SG of slurry, [-]\n",
    "- $C_w$ : float\n",
    "    - Concentration of solids in slurry, by weight, [%]\n",
    "- $C_v$ : float\n",
    "    - Concentration of solids in slurry, by true volume [%]\n",
    "\n",
    "**Returns**\n",
    "- Various\n",
    "\n",
    "**Python Equation**"
   ],
   "metadata": {}
  },
  {
   "cell_type": "code",
   "execution_count": 11,
   "source": [
    "def slurry_convert(Sw=None, S=None, Sm=None, Cw=None, Cv=None):\r\n",
    "    list = [Sw, S, Sm, Cw, Cv]\r\n",
    "    test = [v is None for v in list]\r\n",
    "    if sum(test) == 2:\r\n",
    "        if list[0] is None:\r\n",
    "            if not any([test[2], test[3]]):\r\n",
    "                return {'Sw': [S*(Sm*Cw-Sm)/(Sm*Cw-S)]}\r\n",
    "            if not any([test[2], test[4]]):\r\n",
    "                return {'Sw': [(S*Cv-Sm)/(Cv-1)]}\r\n",
    "            if not any([test[3], test[4]]):\r\n",
    "                return {'Sw': [S*(Cv*(Cw-1))/(Cw*(Cv-1))]}\r\n",
    "        else:\r\n",
    "            if not any([test[3], test[4]]):\r\n",
    "                return {'S': Sw*Cw*(Cv-1)/(Cv*(Cw-1)), 'Sm': Sw*(Cv-1)/(Cw-1)}\r\n",
    "            if not any([test[2], test[4]]):\r\n",
    "                return {'S':Sw+(Sm-Sw)/Cv, 'Cw':1+Sw*(Cv-1)/Sm}\r\n",
    "            if not any([test[2], test[3]]):\r\n",
    "                return {'S':Sw*Cw/(Cw-1+Sw/Sm), 'Cv':1+Sm*(Cw-1)/Sw}\r\n",
    "            if not any([test[1], test[3]]):\r\n",
    "                return {'Sm':Sw/(1-Cw*(1-Sw/S)), 'Cv':Sw/(Sw-S+S/Cw)}\r\n",
    "            if not any([test[1], test[4]]):\r\n",
    "                return {'Sm':Sw+Cv*(S-Sw), 'Cw':S*Cv/(Sw+Cv*(S-Sw))}\r\n",
    "            if not any([test[1], test[2]]):\r\n",
    "                return {'Cv':(Sm-Sw)/(S-Sw),'Cw': S*(Sm-Sw)/(Sm*(S-Sw))}\r\n",
    "    elif sum(test) < 2:\r\n",
    "        return 'too many variables'\r\n",
    "    else:\r\n",
    "        return 'missing variables'"
   ],
   "outputs": [],
   "metadata": {}
  },
  {
   "cell_type": "markdown",
   "source": [
    "**Example**"
   ],
   "metadata": {}
  },
  {
   "cell_type": "code",
   "execution_count": 12,
   "source": [
    "slurry_convert( Sw = 1,         # SG Water\r\n",
    "                S = 2.95,       # SG Solids\r\n",
    "                Sm = None,      # SG Slurry\r\n",
    "                Cw = 0.199,       # %wt\r\n",
    "                Cv = None)       # %vol"
   ],
   "outputs": [
    {
     "output_type": "execute_result",
     "data": {
      "text/plain": [
       "{'Sm': 1.1514666562579285, 'Cv': 0.07767520833739924}"
      ]
     },
     "metadata": {},
     "execution_count": 12
    }
   ],
   "metadata": {}
  },
  {
   "cell_type": "markdown",
   "source": [
    "**References**\n",
    "\n",
    "[1]: WEIR SLURRY PUMPING MANUAL. 2002."
   ],
   "metadata": {}
  },
  {
   "cell_type": "markdown",
   "source": [
    "### GPL to %Cw & %Cv"
   ],
   "metadata": {}
  },
  {
   "cell_type": "markdown",
   "source": [
    "**Formula**\n",
    "$$ C_v = \\frac{gpl/1000}{S} $$\n",
    "\n",
    "$$ C_w = \\frac{S*gpl}{(gpl+1000S_w)S-gpl*S_w} $$\n",
    "\n",
    "**Parameters**\n",
    "- gpl : float\n",
    "    - Solids concentration in grams per liter of slurry, [g/l]\n",
    "- $S_w$ : float\n",
    "    - SG of liquid, usually water at 20°C = 1, [-]\n",
    "- $S$ : float\n",
    "    - SG of dry solids, [-]\n",
    "\n",
    "**Returns**\n",
    "- $C_w$ : float\n",
    "    - Concentration of solids in slurry, by weight, [%]\n",
    "- $C_v$ : float\n",
    "    - Concentration of solids in slurry, by true volume [%]\n",
    "**Python Equation**"
   ],
   "metadata": {}
  },
  {
   "cell_type": "code",
   "execution_count": 15,
   "source": [
    "def gpl_to_cv(S, gpl):\r\n",
    "    return (gpl/1000)/S\r\n",
    "\r\n",
    "def gpl_to_cw(S, gpl, Sw):\r\n",
    "    return S*gpl/((gpl+1000*Sw)*S-gpl*Sw)"
   ],
   "outputs": [],
   "metadata": {}
  },
  {
   "cell_type": "markdown",
   "source": [
    "**Example**"
   ],
   "metadata": {}
  },
  {
   "cell_type": "code",
   "execution_count": 16,
   "source": [
    "S   = 2.95\r\n",
    "gpl = 230\r\n",
    "Sw  = 1\r\n",
    "gpl_to_cw(S, gpl, Sw)"
   ],
   "outputs": [
    {
     "output_type": "execute_result",
     "data": {
      "text/plain": [
       "0.19964690304546123"
      ]
     },
     "metadata": {},
     "execution_count": 16
    }
   ],
   "metadata": {}
  },
  {
   "cell_type": "markdown",
   "source": [
    "## Settling Velocity"
   ],
   "metadata": {}
  },
  {
   "cell_type": "markdown",
   "source": [
    "### Oroskar Turian\n",
    "\n",
    "**Formula**\n",
    "$$ V_{OT} = \\sqrt{gd(S-1)} \\left[1.85C_c^{0.1536}(1-C_c)^{0.3564} \\left(\\frac{D}{d}\\right)^{0.378} \\left(\\frac{\\rho{_f}D\\sqrt{gd(S-1)}}{\\mu{_f}} \\right)^{0.09} X^{0.3} \\right] $$\n",
    "\n",
    "**Parameters**\n",
    "- $g$ : float\n",
    "    - Gravitational acceleration = 9.81, [m/s²]\n",
    "- $D$ : float\n",
    "    - Pipe inner diameter, [m]\n",
    "- $d$ : float\n",
    "    - Particle diameter (Coarse d50), [m]\n",
    "- $S$ : float\n",
    "    - Ratio of the coarse solid density to carrier fluid density $\\rho{_S}/\\rho{_f}$, [-]\n",
    "- $C_c$ : float\n",
    "    - The coarse particle volume fraction (i.e., particles exceeding 74 μm), [%]\n",
    "- $\\rho{_f}$ : float\n",
    "    - Carrier fluid, including fines density, [kg/m³]\n",
    "- $\\mu{_f}$ : float\n",
    "    - Carrier fluid dynamic viscosity, [Pa.s]\n",
    "- $X$ : float\n",
    "    - Hindered settling factor = 1, [-]\n",
    "\n",
    "**Returns**\n",
    "- $V_{OT}$ : float\n",
    "    - Oroskar and Turian (1980) critical velocity, [m/s]\n",
    "    \n",
    "**Python Formula**"
   ],
   "metadata": {}
  },
  {
   "cell_type": "code",
   "execution_count": 26,
   "source": [
    "def oroskar(D, d, S, C_c, rho_f, mu_f, X=1, g=9.81):\r\n",
    "    V_ot = ((g*d*(S-1))**0.5)*\\\r\n",
    "    (\\\r\n",
    "        (1.85*C_c**0.1536)*\\\r\n",
    "        ((1-C_c)**0.3567)*\\\r\n",
    "        ((D/d)**0.378)*\\\r\n",
    "        (((rho_f*D*((g*d*(S-1))**0.5))/mu_f)**0.09)*\\\r\n",
    "        (X**0.3)\r\n",
    "    )\r\n",
    "    return V_ot"
   ],
   "outputs": [],
   "metadata": {}
  },
  {
   "cell_type": "markdown",
   "source": [
    "**Example**"
   ],
   "metadata": {}
  },
  {
   "cell_type": "code",
   "execution_count": 27,
   "source": [
    "D     = 0.2546\r\n",
    "d     = 0.212E-3\r\n",
    "rho_f = 1129\r\n",
    "S     = 2200/rho_f\r\n",
    "C_c   = 0.12183\r\n",
    "mu_f  = 0.02\r\n",
    "\r\n",
    "oroskar(D, d, S, C_c, rho_f, mu_f, X=1)"
   ],
   "outputs": [
    {
     "output_type": "execute_result",
     "data": {
      "text/plain": [
       "1.4814408394481262"
      ]
     },
     "metadata": {},
     "execution_count": 27
    }
   ],
   "metadata": {}
  },
  {
   "cell_type": "markdown",
   "source": [
    "## Bingham Friction Factor\r\n",
    "   \r\n",
    "Calculates the Darcy friction factor for a Bingham plastic. Calculated for any Reynolds number, from laminar through turbulent. [1]\r\n",
    "\r\n",
    "**Formula**\r\n",
    "$$ UPDATED ME $$\r\n",
    "\r\n",
    "\r\n",
    "**Parameters**\r\n",
    "- d_m : float\r\n",
    "    - Inner Diameter of Pipe, [m]\r\n",
    "- v : float\r\n",
    "    - Velocity, [m/s]\r\n",
    "- rho : float\r\n",
    "    - Density of Slurry, [kg/m^3]\r\n",
    "- t_0 : float\r\n",
    "    - Yield stress, [Pa]\r\n",
    "- mu_b : float\r\n",
    "    - Plastic Viscocity [Pa.s]\r\n",
    "\r\n",
    "**Returns**\r\n",
    "- f_d : float\r\n",
    "    - Darcy Friction Factor, [-]"
   ],
   "metadata": {}
  },
  {
   "cell_type": "code",
   "execution_count": 11,
   "source": [
    "def bingham_darcy_friction_factor(d_m, v, rho, t_0, mu_b):\r\n",
    "    N_re = d_m*v*rho/mu_b\r\n",
    "    N_he = d_m**2*rho*t_0/mu_b**2\r\n",
    "    # Laminar\r\n",
    "    f_L = 16/N_re*(1+1/6*(N_he/N_re))\r\n",
    "    for i in range(10):\r\n",
    "        f_L = 16/N_re*(1+1/6*(N_he/N_re)-((N_he**4)/(3*f_L**3*N_re**7)))  \r\n",
    "    f_L = 4 * f_L       # Converts to Darcy Friction Factor\r\n",
    "    # Turbulent\r\n",
    "    a = -1.47*(1+0.146*math.exp(-2.9*10**-5*N_he))\r\n",
    "    f_T = 4 * (10**a/N_re**0.193)\r\n",
    "    # Combine\r\n",
    "    m = 1.7+40000/N_re\r\n",
    "    return (f_L**m+f_T**m)**(1/m)"
   ],
   "outputs": [],
   "metadata": {}
  },
  {
   "cell_type": "code",
   "execution_count": 12,
   "source": [
    "bingham_darcy_friction_factor(0.254, 2.3, 1300, 6, 0.02)"
   ],
   "outputs": [
    {
     "output_type": "execute_result",
     "data": {
      "text/plain": [
       "0.01905007708620241"
      ]
     },
     "metadata": {},
     "execution_count": 12
    }
   ],
   "metadata": {}
  },
  {
   "cell_type": "markdown",
   "source": [
    "**References**\n",
    "\n",
    "[1]: Ron Darby, Chemical Engineering Fluid Mechanics. 2nd edition. 2001."
   ],
   "metadata": {}
  },
  {
   "cell_type": "code",
   "execution_count": null,
   "source": [],
   "outputs": [],
   "metadata": {}
  }
 ],
 "metadata": {
  "colab": {
   "name": "formulas.ipynb",
   "provenance": [],
   "toc_visible": true
  },
  "interpreter": {
   "hash": "2db1b0deb42b532fb369406e4d785cf3316e6d1ed00c16eb1956b3a7c930621a"
  },
  "kernelspec": {
   "name": "python3",
   "display_name": "Python 3.7.1 64-bit ('dev': conda)"
  },
  "language_info": {
   "codemirror_mode": {
    "name": "ipython",
    "version": 3
   },
   "file_extension": ".py",
   "mimetype": "text/x-python",
   "name": "python",
   "nbconvert_exporter": "python",
   "pygments_lexer": "ipython3",
   "version": "3.7.1"
  },
  "toc-autonumbering": true,
  "toc-showcode": false,
  "toc-showmarkdowntxt": false,
  "toc-showtags": false
 },
 "nbformat": 4,
 "nbformat_minor": 4
}