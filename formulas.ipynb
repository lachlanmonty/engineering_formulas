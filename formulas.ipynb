{
  "nbformat": 4,
  "nbformat_minor": 0,
  "metadata": {
    "orig_nbformat": 4,
    "language_info": {
      "name": "python",
      "version": "3.8.8",
      "mimetype": "text/x-python",
      "codemirror_mode": {
        "name": "ipython",
        "version": 3
      },
      "pygments_lexer": "ipython3",
      "nbconvert_exporter": "python",
      "file_extension": ".py"
    },
    "kernelspec": {
      "name": "python3",
      "display_name": "Python 3.8.8 64-bit ('dev': conda)"
    },
    "interpreter": {
      "hash": "0ce970cf7d1538104e01c5736b8023836b54c1fab61825c987f0552f70509c78"
    },
    "colab": {
      "name": "formulas.ipynb",
      "provenance": [],
      "toc_visible": true
    }
  },
  "cells": [
    {
      "cell_type": "markdown",
      "metadata": {
        "id": "Zk2s1MqDKN_x"
      },
      "source": [
        "# Engineering Formulas\n",
        "Mechanical / piping engineering calculations."
      ]
    },
    {
      "cell_type": "code",
      "metadata": {
        "id": "umAbbCJ3KN_0"
      },
      "source": [
        "import numpy as np"
      ],
      "execution_count": 1,
      "outputs": []
    },
    {
      "cell_type": "markdown",
      "metadata": {
        "id": "0Ekyo3ioKN_1"
      },
      "source": [
        "## Basics"
      ]
    },
    {
      "cell_type": "markdown",
      "metadata": {
        "id": "XhcxIgDDKN_3"
      },
      "source": [
        "### Velocity / Diameter / Flowrate"
      ]
    },
    {
      "cell_type": "markdown",
      "metadata": {
        "id": "w14zK9jNYV7X"
      },
      "source": [
        "Simply formula manipulation to make it easy to switch between velocity / diameter and flowrate."
      ]
    },
    {
      "cell_type": "markdown",
      "metadata": {
        "id": "I3Cdj2gfKN_3"
      },
      "source": [
        "#### Formula"
      ]
    },
    {
      "cell_type": "markdown",
      "metadata": {
        "id": "ynIWK8SlKN_3"
      },
      "source": [
        "$$ Q = AV  $$"
      ]
    },
    {
      "cell_type": "markdown",
      "metadata": {
        "id": "GX8kE_nuX2gl"
      },
      "source": [
        "#### Parameters\n",
        "- A : float\n",
        "    - Area of pipe, [m²]\n",
        "- V : float\n",
        "    - Velocity, [m]\n",
        "\n",
        "#### Returns\n",
        "- Q : float\n",
        "    - Flowrate, [m³/s]"
      ]
    },
    {
      "cell_type": "markdown",
      "metadata": {
        "id": "-oheAEzCMMOh"
      },
      "source": [
        "#### Python Formula"
      ]
    },
    {
      "cell_type": "code",
      "metadata": {
        "id": "nSjZ5OTgKoEe"
      },
      "source": [
        "def find_dia(Q_m3h, V_ms):\n",
        "    area = Q_m3h / 60 / 60 / V_ms\n",
        "    dia_mm = np.sqrt((4*area)/(np.pi)) * 1000\n",
        "    return round(dia_mm,2)\n",
        "\n",
        "def find_flow(dia_mm, V_ms):\n",
        "    area = (np.pi*(dia_mm/1000)**2)/4\n",
        "    Q_m3h = V_ms * area * 60 * 60\n",
        "    return round(Q_m3h,2)\n",
        "\n",
        "def find_vel(dia_mm, Q_m3h):\n",
        "    area = (np.pi*(dia_mm/1000)**2)/4\n",
        "    V_ms = Q_m3h / 60 / 60 / area\n",
        "    return round(V_ms,2)"
      ],
      "execution_count": null,
      "outputs": []
    },
    {
      "cell_type": "markdown",
      "metadata": {
        "id": "7LGy2iGsMFPG"
      },
      "source": [
        "#### Example"
      ]
    },
    {
      "cell_type": "code",
      "metadata": {
        "colab": {
          "base_uri": "https://localhost:8080/"
        },
        "id": "SqQx4g3XUlli",
        "outputId": "5e8f28b8-6fc0-48cc-d880-1da279a49880"
      },
      "source": [
        "dia   = find_dia(420, 2.3)\n",
        "flow  = find_flow(254,2.3)\n",
        "vel   = find_vel(254, 420)\n",
        "print('Diameter equals',dia,'mm')\n",
        "print('Flowrate equals',flow,'m3/h')\n",
        "print('Velocity equals',vel,'m/s')"
      ],
      "execution_count": null,
      "outputs": [
        {
          "output_type": "stream",
          "name": "stdout",
          "text": [
            "Diameter equals 254.14 mm\n",
            "Flowrate equals 419.55 m3/h\n",
            "Velocity equals 2.3 m/s\n"
          ]
        }
      ]
    },
    {
      "cell_type": "markdown",
      "metadata": {
        "id": "Dru5suOaKN_4"
      },
      "source": [
        "## Fluid Mechanics"
      ]
    },
    {
      "cell_type": "markdown",
      "metadata": {
        "id": "NsF2vNj6KN_4"
      },
      "source": [
        "### Friction loss through pipe"
      ]
    },
    {
      "cell_type": "markdown",
      "metadata": {
        "id": "lv-QUnf8KN_4"
      },
      "source": [
        "#### Formula"
      ]
    },
    {
      "cell_type": "markdown",
      "metadata": {
        "id": "R9u1VwlXKN_6"
      },
      "source": [
        "$$ h_L = f\\frac{L}{D}\\frac{V^2}{2g}  $$"
      ]
    },
    {
      "cell_type": "markdown",
      "metadata": {
        "id": "ex964_GSKN_6"
      },
      "source": [
        "#### Parameters\n",
        "- f : float\n",
        "    - Darcy Friction Factor, [-]\n",
        "- L : float\n",
        "    - Length of pipe, [m]\n",
        "- D : float\n",
        "    - Inner diameter of pipe, [m]\n",
        "- V : float\n",
        "    - Velocity of fluid, [m/s]\n",
        "- g : float\n",
        "    - Gravitational acceleration = 9.81, [m/s²]\n",
        "\n",
        "#### Returns\n",
        "- h_l : float\n",
        "    - Head loss, [m]"
      ]
    },
    {
      "cell_type": "markdown",
      "metadata": {
        "id": "dLLGG_9MKN_6"
      },
      "source": [
        "#### Python Formula"
      ]
    },
    {
      "cell_type": "code",
      "metadata": {
        "id": "KV3FcGeeKN_7"
      },
      "source": [
        "def friction_loss(f, L, D, V, g = 9.81):\n",
        "\n",
        "    h_l = f * (L/D) * ((V**2) / (2*g))\n",
        "\n",
        "    return h_l"
      ],
      "execution_count": 2,
      "outputs": []
    },
    {
      "cell_type": "markdown",
      "metadata": {
        "id": "Vl2qZqKBKN_8"
      },
      "source": [
        "#### Example"
      ]
    },
    {
      "cell_type": "code",
      "metadata": {
        "id": "gGYshn4NKN_8",
        "colab": {
          "base_uri": "https://localhost:8080/"
        },
        "outputId": "1e5cce5a-1fc3-4ce6-b53f-0101bf005746"
      },
      "source": [
        "friction_loss(0.019, 1000, 0.254, 2.3)"
      ],
      "execution_count": 4,
      "outputs": [
        {
          "output_type": "execute_result",
          "data": {
            "text/plain": [
              "20.168637177233574"
            ]
          },
          "metadata": {},
          "execution_count": 4
        }
      ]
    },
    {
      "cell_type": "markdown",
      "metadata": {
        "id": "A13TOgE4KN_9"
      },
      "source": [
        "#### References\n",
        "[1] Yunus Cengel, Fluid Mechanics. pg. 329. 4th edition. 2017."
      ]
    },
    {
      "cell_type": "markdown",
      "metadata": {
        "id": "byaBUtVUKN_-"
      },
      "source": [
        ""
      ]
    },
    {
      "cell_type": "markdown",
      "metadata": {
        "id": "m4EnVSp4KN_-"
      },
      "source": [
        ""
      ]
    }
  ]
}