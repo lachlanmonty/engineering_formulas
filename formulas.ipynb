{
 "cells": [
  {
   "cell_type": "markdown",
   "metadata": {
    "id": "Zk2s1MqDKN_x"
   },
   "source": [
    "# Engineering Formulas\n",
    "Mechanical / piping engineering calculations."
   ]
  },
  {
   "cell_type": "code",
   "execution_count": 3,
   "metadata": {
    "id": "umAbbCJ3KN_0"
   },
   "outputs": [],
   "source": [
    "%matplotlib inline\n",
    "import math\n",
    "import numpy as np\n",
    "import pandas as pd\n",
    "import matplotlib.pyplot as plt"
   ]
  },
  {
   "cell_type": "markdown",
   "metadata": {
    "id": "0Ekyo3ioKN_1"
   },
   "source": [
    "# Basics"
   ]
  },
  {
   "cell_type": "markdown",
   "metadata": {
    "id": "XhcxIgDDKN_3"
   },
   "source": [
    "## Velocity / Diameter / Flowrate\n",
    "\n",
    "Simply formula manipulation to make it easy to switch between velocity / diameter and flowrate.\n",
    "\n",
    "**Formula**\n",
    "$$ Q = AV  $$\n",
    "\n",
    "**Parameters**\n",
    "- A : float\n",
    "    - Area of pipe, [m²]\n",
    "- V : float\n",
    "    - Velocity, [m/s]\n",
    "- Q : float\n",
    "    - Flowrate, [m³/s]\n",
    "**Returns**\n",
    "\n",
    "Various\n",
    "\n",
    "**Python Formula**"
   ]
  },
  {
   "cell_type": "code",
   "execution_count": 2,
   "metadata": {
    "id": "nSjZ5OTgKoEe"
   },
   "outputs": [],
   "source": [
    "def vel_dia_flo(Q_m3h = None, V_ms = None, dia_mm = None):\n",
    "    list = [Q_m3h, V_ms, dia_mm]\n",
    "    if sum([v is None for v in list]) == 1:\n",
    "        if Q_m3h is None:\n",
    "            return V_ms * (math.pi*(dia_mm/1000)**2)/4 * 60 * 60\n",
    "        elif V_ms is None:\n",
    "            return (Q_m3h / 60 / 60) / ((math.pi*(dia_mm/1000)**2)/4)\n",
    "        elif dia_mm is None:\n",
    "            return math.sqrt((4*(Q_m3h / 60 / 60 / V_ms))/(math.pi)) * 1000\n",
    "    elif sum([v is None for v in list]) == 0:\n",
    "        return 'too many variables'\n",
    "    else:\n",
    "        return 'missing variables'"
   ]
  },
  {
   "cell_type": "markdown",
   "metadata": {
    "id": "7LGy2iGsMFPG"
   },
   "source": [
    "**Example**"
   ]
  },
  {
   "cell_type": "code",
   "execution_count": 3,
   "metadata": {
    "colab": {
     "base_uri": "https://localhost:8080/"
    },
    "id": "SqQx4g3XUlli",
    "outputId": "7031d739-453e-42be-befa-cf8331026ab9"
   },
   "outputs": [
    {
     "data": {
      "text/plain": [
       "8.482300164692441"
      ]
     },
     "execution_count": 3,
     "metadata": {},
     "output_type": "execute_result"
    }
   ],
   "source": [
    "Q_m3h     = None\n",
    "V_ms      = 1.2\n",
    "dia_mm    = 50\n",
    "\n",
    "vel_dia_flo(Q_m3h, V_ms, dia_mm)"
   ]
  },
  {
   "cell_type": "markdown",
   "metadata": {},
   "source": [
    "## Factors of Numbers\n",
    "\n",
    "Simple script to generate the factors of any number."
   ]
  },
  {
   "cell_type": "code",
   "execution_count": 4,
   "metadata": {},
   "outputs": [],
   "source": [
    "def print_factors(x):\n",
    "   print(f'The factors of {x} are:')\n",
    "   for i in range(1, x + 1):\n",
    "       if x % i == 0:\n",
    "           print(i)"
   ]
  },
  {
   "cell_type": "markdown",
   "metadata": {},
   "source": [
    "**Example**"
   ]
  },
  {
   "cell_type": "code",
   "execution_count": 5,
   "metadata": {},
   "outputs": [
    {
     "name": "stdout",
     "output_type": "stream",
     "text": [
      "The factors of 21 are:\n",
      "1\n",
      "3\n",
      "7\n",
      "21\n"
     ]
    }
   ],
   "source": [
    "num = 21\n",
    "\n",
    "print_factors(num)"
   ]
  },
  {
   "cell_type": "markdown",
   "metadata": {
    "id": "Dru5suOaKN_4",
    "tags": []
   },
   "source": [
    "# Fluid Mechanics"
   ]
  },
  {
   "cell_type": "markdown",
   "metadata": {},
   "source": [
    "## Bernoulli's principle\n",
    "\n",
    "Bernoulli's principle states that an increase in the speed of a fluid occurs simultaneously with a decrease in static pressure or a decrease in the fluid's potential energy.\n",
    "\n",
    "**Formula**\n",
    "$$ P_1 + \\frac{1}{2} \\rho v_1^2 +\\rho g h_1 = \n",
    "  P_2 + \\frac{1}{2} \\rho v_2^2 +\\rho g h_2 $$\n",
    "  \n",
    "**Parameters**\n",
    "- P : float\n",
    "   - Pressure Energy, [Pa]\n",
    "- $\\rho$ : float\n",
    "   - Density of the fluid, [kg/m³]\n",
    "- v : float\n",
    "   - Velocity of fluid, [m/s]\n",
    "- h : float\n",
    "  - Physical Height, [m]\n",
    "- g : float\n",
    "    - Gravitational acceleration = 9.81, [m/s²]"
   ]
  },
  {
   "cell_type": "code",
   "execution_count": 6,
   "metadata": {
    "id": "fJ29aAjCpeLh"
   },
   "outputs": [],
   "source": [
    "def pumphead (delta_h, fric_f, L_m, d_mm , Ktotal, V, P1, P2, rho, g = 9.81):\n",
    "    h_pump = ((P2-P1)*1000/(rho*g)) + (delta_h) + (( fric_f * (L_m/(d_mm/1000)) + Ktotal ) * ((V**2)/(2*g)))\n",
    "    return h_pump"
   ]
  },
  {
   "cell_type": "markdown",
   "metadata": {},
   "source": [
    "**Example**"
   ]
  },
  {
   "cell_type": "code",
   "execution_count": 7,
   "metadata": {},
   "outputs": [
    {
     "data": {
      "text/plain": [
       "21.246727828746177"
      ]
     },
     "execution_count": 7,
     "metadata": {},
     "output_type": "execute_result"
    }
   ],
   "source": [
    "delta_h = 20\n",
    "fric_f  = 0.0014\n",
    "L_m     = 200\n",
    "d_mm    = 250\n",
    "Ktotal  = 2\n",
    "V       = 2.8\n",
    "P1      = 100E3\n",
    "P2      = 100E3\n",
    "rho     = 1100\n",
    "\n",
    "pumphead(delta_h, fric_f, L_m, d_mm , Ktotal, V, P1, P2, rho)"
   ]
  },
  {
   "cell_type": "markdown",
   "metadata": {
    "id": "4qF-ClD1cAv3",
    "tags": []
   },
   "source": [
    "**References**\n",
    "\n",
    "[1] Yunus Cengel, Fluid Mechanics. eq. (8–55). 4th edition. 2017."
   ]
  },
  {
   "cell_type": "markdown",
   "metadata": {
    "id": "NsF2vNj6KN_4",
    "tags": [],
    "toc-hr-collapsed": true
   },
   "source": [
    "## Friction loss through pipe\n",
    "\n",
    "**Formula**\n",
    "$$ h_L = f\\frac{L}{D}\\frac{V^2}{2g}  $$\n",
    "**Parameters**\n",
    "- f : float\n",
    "    - Darcy Friction Factor, [-]\n",
    "- L : float\n",
    "    - Length of pipe, [m]\n",
    "- D : float\n",
    "    - Inner diameter of pipe, [m]\n",
    "- V : float\n",
    "    - Velocity of fluid, [m/s]\n",
    "- g : float\n",
    "    - Gravitational acceleration = 9.81, [m/s²]\n",
    "\n",
    "**Returns**\n",
    "- h_l : float\n",
    "    - Head loss, [m]\n",
    "\n",
    "**Python Formula**"
   ]
  },
  {
   "cell_type": "code",
   "execution_count": 4,
   "metadata": {
    "id": "KV3FcGeeKN_7"
   },
   "outputs": [],
   "source": [
    "def friction_loss(f, L, D, V, g = 9.81):\n",
    "    h_l = f * (L/D) * ((V**2) / (2*g))\n",
    "    return h_l"
   ]
  },
  {
   "cell_type": "markdown",
   "metadata": {
    "id": "Vl2qZqKBKN_8"
   },
   "source": [
    "**Example**"
   ]
  },
  {
   "cell_type": "code",
   "execution_count": 9,
   "metadata": {
    "colab": {
     "base_uri": "https://localhost:8080/"
    },
    "id": "gGYshn4NKN_8",
    "outputId": "1e5cce5a-1fc3-4ce6-b53f-0101bf005746"
   },
   "outputs": [
    {
     "data": {
      "text/plain": [
       "20.168637177233574"
      ]
     },
     "execution_count": 9,
     "metadata": {},
     "output_type": "execute_result"
    }
   ],
   "source": [
    "friction_loss(0.019, 1000, 0.254, 2.3)"
   ]
  },
  {
   "cell_type": "markdown",
   "metadata": {
    "id": "A13TOgE4KN_9"
   },
   "source": [
    "**References**\n",
    "\n",
    "[1] Yunus Cengel, Fluid Mechanics. eq. (8-24). 4th edition. 2017."
   ]
  },
  {
   "cell_type": "markdown",
   "metadata": {},
   "source": [
    "## Reynolds number\n",
    "\n",
    "**Formula**\n",
    "$$ R_e = \\frac{\\rho V D}{\\mu}  $$\n",
    "**Parameters**\n",
    "- $\\rho$ : float\n",
    "   - Density of the fluid, [kg/m³]\n",
    "- $\\mu$ : float\n",
    "    - Dynamic viscosity of the fluid, [Pa.s]\n",
    "- D : float\n",
    "    - Inner diameter of pipe, [m]\n",
    "- V : float\n",
    "    - Velocity of fluid, [m/s]\n",
    "\n",
    "**Returns**\n",
    "- $R_e$ : float\n",
    "    - Reynolds number, [-]\n",
    "\n",
    "**Python Formula**"
   ]
  },
  {
   "cell_type": "code",
   "execution_count": 5,
   "metadata": {},
   "outputs": [],
   "source": [
    "def re_number(rho, mu, D, V):\n",
    "    r_e = (rho * V * D) / mu \n",
    "    return r_e"
   ]
  },
  {
   "cell_type": "markdown",
   "metadata": {},
   "source": [
    "**Example**"
   ]
  },
  {
   "cell_type": "code",
   "execution_count": 9,
   "metadata": {},
   "outputs": [
    {
     "data": {
      "text/plain": [
       "2106676.0"
      ]
     },
     "execution_count": 9,
     "metadata": {},
     "output_type": "execute_result"
    }
   ],
   "source": [
    "rho = 1100\n",
    "mu  = 0.001\n",
    "D   = 0.7366\n",
    "V   = 2.6\n",
    "\n",
    "re_number(rho, mu, D,  V)"
   ]
  },
  {
   "attachments": {},
   "cell_type": "markdown",
   "metadata": {},
   "source": [
    "**References**\n",
    "\n",
    "[1] Yunus Cengel, Fluid Mechanics. 4th edition. 2017."
   ]
  },
  {
   "attachments": {},
   "cell_type": "markdown",
   "metadata": {},
   "source": [
    "## Friction Factor - Swamee-Jain\n",
    "\n",
    "**Formula**\n",
    "$$ R_e = \\frac{0.25}{[log(\\frac{e/D}{3.7}+\\frac{5.74}{Re^{0.9}})]^2}  $$\n",
    "**Parameters**\n",
    "- $\\rho$ : float\n",
    "   - Density of the fluid, [kg/m³]\n",
    "- $\\mu$ : float\n",
    "    - Dynamic viscosity of the fluid, [Pa.s]\n",
    "- D : float\n",
    "    - Inner diameter of pipe, [m]\n",
    "- V : float\n",
    "    - Velocity of fluid, [m/s]\n",
    "\n",
    "**Returns**\n",
    "- $R_e$ : float\n",
    "    - Reynolds number, [-]\n",
    "\n",
    "**Python Formula**"
   ]
  },
  {
   "cell_type": "code",
   "execution_count": 7,
   "metadata": {},
   "outputs": [],
   "source": [
    "def swamee_jain(e, D, re):\n",
    "    f = 0.25 / (np.log((e / (3.7 * D)) + (5.74 / (re ** 0.9)))) ** 2\n",
    "    return f"
   ]
  },
  {
   "attachments": {},
   "cell_type": "markdown",
   "metadata": {},
   "source": [
    "**Example**"
   ]
  },
  {
   "cell_type": "code",
   "execution_count": 13,
   "metadata": {},
   "outputs": [
    {
     "data": {
      "image/png": "[encoded data removed]",
      "text/plain": [
       "<Figure size 640x480 with 1 Axes>"
      ]
     },
     "metadata": {},
     "output_type": "display_data"
    }
   ],
   "source": [
    "# Plot the friction loss over a 1000 metres for pipe sizes up to DN1000\n",
    "dn = np.linspace(0.02, 0.2, 1000)\n",
    "\n",
    "rho = 1000  # kg/m3\n",
    "mu = 0.001  # Pa.s\n",
    "V = 3  # m/s\n",
    "e = 0.001  # mm\n",
    "l = 1000  # 1000 m\n",
    "\n",
    "re = re_number(rho=rho, mu=mu, D=dn, V=V)\n",
    "f = swamee_jain(e=e, D=dn, re=re)\n",
    "h = friction_loss(f=f, L=l, D=dn, V=V)\n",
    "\n",
    "# plot\n",
    "fig = plt.scatter(x=dn * 1000, y=h)"
   ]
  },
  {
   "attachments": {},
   "cell_type": "markdown",
   "metadata": {},
   "source": [
    "**References**\n",
    "\n",
    "[1] Yunus Cengel, Fluid Mechanics. 4th edition. 2017."
   ]
  },
  {
   "cell_type": "markdown",
   "metadata": {},
   "source": [
    "## Pump Power\n",
    "\n",
    "**Formula**\n",
    "$$ P = \\frac{\\rho g Q H}{\\eta} $$\n",
    "**Parameters**\n",
    "- $\\rho$ : float\n",
    "   - Density of the fluid, [kg/m³]\n",
    "- g : float\n",
    "    - Gravitational acceleration = 9.81, [m/s²]\n",
    "- Q : float\n",
    "    - Flowrate, [m3/s]\n",
    "- H : float\n",
    "    - Pump head produced, [m]\n",
    "- $\\eta$ : float\n",
    "    - Efficiency, [%]\n",
    "\n",
    "**Returns**\n",
    "- $P$ : float\n",
    "    - Pump Power, [W]\n",
    "\n",
    "**Python Formula**"
   ]
  },
  {
   "cell_type": "code",
   "execution_count": 12,
   "metadata": {},
   "outputs": [],
   "source": [
    "def pump_power(rho, Q_m3h, H, eta, g = 9.81):\n",
    "    Q_m3s = Q_m3h / 60 / 60\n",
    "    P = (rho*g*Q_m3s*H)/eta\n",
    "    return P"
   ]
  },
  {
   "cell_type": "markdown",
   "metadata": {},
   "source": [
    "**Example**"
   ]
  },
  {
   "cell_type": "code",
   "execution_count": 13,
   "metadata": {},
   "outputs": [
    {
     "data": {
      "text/plain": [
       "376.62"
      ]
     },
     "execution_count": 13,
     "metadata": {},
     "output_type": "execute_result"
    }
   ],
   "source": [
    "rho    = 936\n",
    "Q_m3h  = 1613\n",
    "H      = 64.08\n",
    "eta    = 0.7\n",
    "\n",
    "round(pump_power(rho, Q_m3h, H, eta) / 1000, 2) # kw"
   ]
  },
  {
   "cell_type": "markdown",
   "metadata": {},
   "source": [
    "**References**\n",
    "\n",
    "[1] Yunus Cengel, Fluid Mechanics. 4th edition. 2017."
   ]
  },
  {
   "cell_type": "markdown",
   "metadata": {
    "tags": []
   },
   "source": [
    "## Pump Affinity Laws\n",
    "\n",
    "**Formula**\n",
    "$$ \\frac{\\dot{V_B}}{\\dot{V_A}} = \\frac{\\omega{_B}}{\\omega{_A}} \\left(\\frac{D_B}{D_A}\\right)^3 $$\n",
    "\n",
    "$$ \\frac{H_B}{H_A} = \\left(\\frac{\\omega{_B}}{\\omega{_A}}\\right)^2 \\left(\\frac{D_B}{D_A}\\right)^2 $$\n",
    "\n",
    "$$ \\frac{P_B}{P_A} = \\frac{\\rho{_B}}{\\rho{_A}} \\left(\\frac{\\omega{_B}}{\\omega{_A}}\\right)^3 \\left(\\frac{D_B}{D_A}\\right)^5 $$\n",
    "\n",
    "**Parameters**\n",
    "\n",
    "- $\\dot{V}$ : float\n",
    "    - Volume flow rate, [m³/s]\n",
    "- $\\omega$ : float\n",
    "    - Angular frequency (can use rpm as the units cancel out), [rad/s]\n",
    "- D : float\n",
    "    - Diameter of impeller, [m]\n",
    "- H : float\n",
    "    - Pump head, [m]\n",
    "- P : float\n",
    "    - Pump power, [W]\n",
    "- $\\rho$ : float\n",
    "   - Density of the fluid, [kg/m³]\n",
    "\n",
    "**Returns**\n",
    "- $\\dot{V_B}$ : float\n",
    "    - Volume flow rate, [m³/s]\n",
    "\n",
    "or\n",
    "- $H_B$ : float\n",
    "    - Pump head, [m]\n",
    "\n",
    "or\n",
    "- $P$ : float\n",
    "    - Pump power, [W]\n",
    "\n",
    "**Python Formula**"
   ]
  },
  {
   "cell_type": "code",
   "execution_count": 14,
   "metadata": {},
   "outputs": [],
   "source": [
    "def affinity_flow(V_A, omega_A, omega_B, D_A, D_B):\n",
    "    V_B = V_A * (omega_B/omega_A) * (D_B/D_A)**3\n",
    "    return V_B\n",
    "\n",
    "def affinity_head(H_A, omega_A, omega_B, D_A, D_B):\n",
    "    H_B = H_A * (omega_B/omega_A)**2 * (D_B/D_A)**2\n",
    "    return H_B\n",
    "\n",
    "def affinity_power(P_A, rho_A, rho_B, omega_A, omega_B, D_A, D_B):\n",
    "    P_B = P_A * (rho_B/rho_A)*(omega_B/omega_A)**3 * (D_B/D_A)**5\n",
    "    return P_B"
   ]
  },
  {
   "cell_type": "markdown",
   "metadata": {},
   "source": [
    "**Example**"
   ]
  },
  {
   "cell_type": "code",
   "execution_count": 15,
   "metadata": {},
   "outputs": [
    {
     "data": {
      "text/plain": [
       "386.5470566399998"
      ]
     },
     "execution_count": 15,
     "metadata": {},
     "output_type": "execute_result"
    }
   ],
   "source": [
    "affinity_power(200, 1000, 1000, 1500, 2000, 500, 480)"
   ]
  },
  {
   "cell_type": "markdown",
   "metadata": {},
   "source": [
    "**References**\n",
    "\n",
    "[1] Yunus Cengel, Fluid Mechanics pg. 777. 4th edition. 2017."
   ]
  },
  {
   "cell_type": "markdown",
   "metadata": {
    "id": "byaBUtVUKN_-"
   },
   "source": [
    "## Flow Discharge Factor - K Factor\n",
    "**Formula**\n",
    "$$ K_L = \\frac{h_L*2*g}{V^2} $$\n",
    "\n",
    "**Parameters**\n",
    "- h_L : float\n",
    "    - Head losses through fitting, [m]\n",
    "- V : float\n",
    "    - Velocity of fluid, [m/s]\n",
    "- g : float\n",
    "    - Gravitational acceleration = 9.81, [m/s²]\n",
    "\n",
    "**Returns**\n",
    "- K_L : float\n",
    "    - Flow Discharge Factor, [-]\n",
    "    \n",
    "**Python Formula**"
   ]
  },
  {
   "cell_type": "code",
   "execution_count": 6,
   "metadata": {
    "id": "aXe9Qq75o69G"
   },
   "outputs": [],
   "source": [
    "def k_factor(h_L, V, g = 9.81):\n",
    "  K_L = (h_L*2*g)/(V**2)\n",
    "  return K_L"
   ]
  },
  {
   "cell_type": "markdown",
   "metadata": {
    "id": "pnnZEqqhpX2N"
   },
   "source": [
    "**Example**"
   ]
  },
  {
   "cell_type": "code",
   "execution_count": 7,
   "metadata": {
    "colab": {
     "base_uri": "https://localhost:8080/"
    },
    "id": "XHrBZqKro5Nf",
    "outputId": "653d8109-16ee-48cb-d788-c42c3489ae63"
   },
   "outputs": [
    {
     "data": {
      "text/plain": [
       "287.40234374999994"
      ]
     },
     "execution_count": 7,
     "metadata": {},
     "output_type": "execute_result"
    }
   ],
   "source": [
    "h = 150\n",
    "v = 3.2\n",
    "\n",
    "k_factor(h, v)"
   ]
  },
  {
   "cell_type": "markdown",
   "metadata": {
    "id": "d1HxwyK8qGO2"
   },
   "source": [
    "**References**\n",
    "\n",
    "[1] Yunus Cengel, Fluid Mechanics. eq. (8–55). 4th edition. 2017."
   ]
  },
  {
   "cell_type": "markdown",
   "metadata": {},
   "source": [
    "## Relationship Between Flow Coefficient and Resistance Coefficient\n",
    "\n",
    "**Formula**\n",
    "$$ K = 0.00214\\frac{d^4}{C_v^2} $$\n",
    "**Parameters**\n",
    "- d : float\n",
    "    - Diameter, [mm]\n",
    "- C_v : float\n",
    "    - Flow coefficient, [gal/min]\n",
    "\n",
    "**Returns**\n",
    "- K : float\n",
    "    - Flow Discharge Factor, [-]\n",
    "\n",
    "**Python Equation**"
   ]
  },
  {
   "cell_type": "code",
   "execution_count": 18,
   "metadata": {},
   "outputs": [],
   "source": [
    "def flow_to_resist_coef(d, C_v):\n",
    "    K = 0.00214 * ((d**4) / (C_v**2))\n",
    "    return K"
   ]
  },
  {
   "cell_type": "markdown",
   "metadata": {},
   "source": [
    "**Example**"
   ]
  },
  {
   "cell_type": "code",
   "execution_count": 19,
   "metadata": {},
   "outputs": [
    {
     "data": {
      "text/plain": [
       "3.0667842150399993"
      ]
     },
     "execution_count": 19,
     "metadata": {},
     "output_type": "execute_result"
    }
   ],
   "source": [
    "flow_to_resist_coef(72.8, 140)"
   ]
  },
  {
   "cell_type": "markdown",
   "metadata": {},
   "source": [
    "**Reference**\n",
    "\n",
    "[Relationship Between Flow Coefficient and Resistance Coefficient](http://kb.eng-software.com/eskb/ask-an-engineer/theory-equations-and-calculated-results-questions/relationship-between-flow-coefficient-and-resistance-coefficient)"
   ]
  },
  {
   "cell_type": "markdown",
   "metadata": {},
   "source": [
    "## Round-Edged Orifice with Identical Upstream and Downstream Diameters\n",
    "\n",
    "<center><img src=\"images/rounded_orifice.png\" width=\"250\"></center>\n",
    "\n",
    "**Formula**\n",
    "$$ K = \\left(\\frac{A_{up}}{A_{orifice}}\\right)^2  \\left[1 - \\frac{A_{orifice}}{A_{up}}+ \\sqrt{K_d} \\left(1-\\frac{A_{orifice}}{A_{up}}\\right)^{0.75}\\right]^2 $$\n",
    "where\n",
    "$$ K_d = 0.03 + 0.47 * 10 ^ {-7.7 r_{edge} / D_{orifice}} $$\n",
    "\n",
    "**Parameters**\n",
    "- $ A_{up} $ : float\n",
    "    - Area of upstream pipe, [m²]\n",
    "- $A_{orifice}$ : float\n",
    "    - Area of orifice, [m²]\n",
    "- $r_{edge}$ : float\n",
    "    - Radius of rounded orifice, [m]\n",
    "\n",
    "**Returns**\n",
    "- K : float\n",
    "    - Flow Discharge Factor, [-]\n",
    "\n",
    "**Python Equation**"
   ]
  },
  {
   "cell_type": "code",
   "execution_count": 1,
   "metadata": {},
   "outputs": [],
   "source": [
    "def k_up(D_up, D_orifice, r_edge):\n",
    "    k_dash = 0.03 + 0.47 * 10 ** (-7.7 * r_edge / D_orifice)\n",
    "    A_up = (math.pi * D_up**2) / 4\n",
    "    A_orifice = (math.pi * D_orifice**2) / 4\n",
    "    k_up = (A_up / A_orifice) ** 2 * (\n",
    "        1 - (A_orifice / A_up) + math.sqrt(k_dash) * ((1 - (A_orifice / A_up)) ** 0.75)\n",
    "    ) ** 2\n",
    "    return k_up"
   ]
  },
  {
   "cell_type": "markdown",
   "metadata": {},
   "source": [
    "**Example**"
   ]
  },
  {
   "cell_type": "code",
   "execution_count": 20,
   "metadata": {},
   "outputs": [
    {
     "name": "stdout",
     "output_type": "stream",
     "text": [
      "total K from beads over 5.2 km  = 13.19\n"
     ]
    }
   ],
   "source": [
    "D_up = 254.6  # mm\n",
    "\n",
    "D_orifice = D_up - (2 * 8)  # 8 mm beads\n",
    "\n",
    "r_edge = 20  # mm\n",
    "\n",
    "k_bead = k_up(D_up, D_orifice, r_edge)\n",
    "\n",
    "k_total = (5200 / 20) * k_bead\n",
    "\n",
    "print(f\"total K from beads over 5.2 km  = {k_total:.2f}\")"
   ]
  },
  {
   "cell_type": "markdown",
   "metadata": {},
   "source": [
    "**References**\n",
    "\n",
    "[1]: Idelchik, I. E., Handbook of Hydraulic Resistance, 4th edition, Begell House, Redding, CT, 2007."
   ]
  },
  {
   "cell_type": "markdown",
   "metadata": {},
   "source": [
    "## Open Channel Flow\n",
    "\n",
    "**Summary**\n",
    "- Generally target 50% fillage\n",
    "- No single mathematical model to represent slurry flows in open channels\n",
    "- Max practical limit of slurry concentration is 65 wt%\n",
    "\n",
    "**Dimensions**\n",
    "\n",
    "Hydraulic Radius = area of the flow : wetted perimeter\n",
    "$$R_H = \\frac{A}{P}$$\n",
    "Hydraulic Diameter\n",
    "$$D_H = \\frac{4A}{P}$$\n",
    "\n",
    "**Hydraulic Diameter Dimensions**\n",
    "\n",
    "<center><img src=\"images/hyd_rad.png\" width=\"500\"></center>\n",
    "\n",
    "### Froude Number\n",
    "- Is a measure of the stability of flow in an open channel. Ratio of the fluids' inertia to gravity forces.\n",
    "\n",
    "**Slurry**\n",
    "- Below 1.5 there is risk of settling and instability / wavy motion\n",
    "- Above 5 there is risk of [[Slug flow]] which causes instability in the form of roll waves\n",
    "\n",
    "$$1.5 < F_r < 5$$\n",
    "\n",
    "**Water**\n",
    "- Sub-critical flow for water (Fr less than 0.8) is not a problem as there is no risk of settling. Therefore:\n",
    "\n",
    "$$F_r < 0.8$$\n",
    "or\n",
    "$$F_r > 1.2$$\n",
    "\n",
    "**Equation**\n",
    "\n",
    "$$F_r =\\frac{V}{\\sqrt{g*y_m}}$$\n",
    "\n",
    "**Parameters**\n",
    "- y_m : float\n",
    "    - Average depth of the liquid, [m]\n",
    "- V : float\n",
    "    - Velocity of fluid, [m/s]\n",
    "- g : float\n",
    "    - Gravitational acceleration = 9.81, [m/s²]\n",
    "\n",
    "**Returns**\n",
    "- Fr : float\n",
    "    -  Froude Number, [-]\n",
    "\n",
    "**Python Equation**\n"
   ]
  },
  {
   "cell_type": "code",
   "execution_count": 20,
   "metadata": {},
   "outputs": [],
   "source": [
    "def froude_no(V, y_m, g = 9.81):\n",
    "    return V / math.sqrt(g * y_m)"
   ]
  },
  {
   "cell_type": "markdown",
   "metadata": {},
   "source": [
    "**Example**"
   ]
  },
  {
   "cell_type": "code",
   "execution_count": 21,
   "metadata": {},
   "outputs": [
    {
     "data": {
      "text/plain": [
       "1.3545709229571927"
      ]
     },
     "execution_count": 21,
     "metadata": {},
     "output_type": "execute_result"
    }
   ],
   "source": [
    "V   = 3\n",
    "y_m = 0.5\n",
    "\n",
    "froude_no(V, y_m)"
   ]
  },
  {
   "cell_type": "markdown",
   "metadata": {},
   "source": [
    "**References**\n",
    "\n",
    "[1]: SLURRY SYSTEMS HANDBOOK. BAHA E. ABULNAGA, P.E. 2002"
   ]
  },
  {
   "cell_type": "markdown",
   "metadata": {},
   "source": [
    "### Fillage Calculation"
   ]
  },
  {
   "cell_type": "code",
   "execution_count": 22,
   "metadata": {},
   "outputs": [],
   "source": [
    "def fillage_calc(Q_m3h, H1_highspot, H2_lowspot, Length_pipe, ID_m, f_d):\n",
    "    h_delta = H1_highspot-H2_lowspot\n",
    "    r = ID_m/2         # radius\n",
    "    A_pipe = (np.pi * ID_m ** 2)/4\n",
    "    df = pd.DataFrame(data= {'theta_deg': np.linspace(0.1,180,1800)})\n",
    "    df['theta'] = np.deg2rad(df['theta_deg'])\n",
    "    df['R_h'] = (r*(df['theta']-np.sin(df['theta'])*np.cos(df['theta']))\n",
    "                 )/(2*df['theta'])\n",
    "    df['A_c'] = r**2*(df['theta']-np.sin(df['theta'])*np.cos(df['theta']))\n",
    "    df['y'] = r*(1-np.cos(df['theta']))     # Height of the liquid\n",
    "    df['fillage'] = df['y']/ ID_m *100      # % fillage\n",
    "    df['V_L'] = (Q_m3h/60/60)/(df['A_c'])   # Velocity of the liquid\n",
    "    df['h_fric'] = (f_d * Length_pipe * df['V_L'] **2 )/(2*9.81*4*df['R_h'])\n",
    "        \n",
    "    # Find closest match of fricion loss to the elevation difference\n",
    "    result_index = df['h_fric'].sub(h_delta).abs().idxmin()\n",
    "    # Check Froude Number\n",
    "    Fr = df['V_L'][result_index] / np.sqrt(9.81 * df['y'][result_index])\n",
    "    fillage = df['fillage'][result_index]\n",
    "    \n",
    "    # Assuming that the velocity of the slurry is equal to the air velocity\n",
    "    Q_air = df['V_L'][result_index] * A_pipe * 60 * 60 - Q_m3h\n",
    "    \n",
    "    results = pd.DataFrame({'fillage %':[fillage],\n",
    "                            'Froude No.':[Fr],\n",
    "                            'Velocity':[df['V_L'][result_index]],\n",
    "                            'Vent Air Flow Req. m3/h':[Q_air]})\n",
    "    return results"
   ]
  },
  {
   "cell_type": "markdown",
   "metadata": {},
   "source": [
    "**Example**"
   ]
  },
  {
   "cell_type": "code",
   "execution_count": 23,
   "metadata": {},
   "outputs": [
    {
     "data": {
      "text/html": [
       "<div>\n",
       "<style scoped>\n",
       "    .dataframe tbody tr th:only-of-type {\n",
       "        vertical-align: middle;\n",
       "    }\n",
       "\n",
       "    .dataframe tbody tr th {\n",
       "        vertical-align: top;\n",
       "    }\n",
       "\n",
       "    .dataframe thead th {\n",
       "        text-align: right;\n",
       "    }\n",
       "</style>\n",
       "<table border=\"1\" class=\"dataframe\">\n",
       "  <thead>\n",
       "    <tr style=\"text-align: right;\">\n",
       "      <th></th>\n",
       "      <th>fillage %</th>\n",
       "      <th>Froude No.</th>\n",
       "      <th>Velocity</th>\n",
       "      <th>Vent Air Flow Req. m3/h</th>\n",
       "    </tr>\n",
       "  </thead>\n",
       "  <tbody>\n",
       "    <tr>\n",
       "      <th>0</th>\n",
       "      <td>55.920198</td>\n",
       "      <td>3.391045</td>\n",
       "      <td>4.002849</td>\n",
       "      <td>310.178512</td>\n",
       "    </tr>\n",
       "  </tbody>\n",
       "</table>\n",
       "</div>"
      ],
      "text/plain": [
       "   fillage %  Froude No.  Velocity  Vent Air Flow Req. m3/h\n",
       "0  55.920198    3.391045  4.002849               310.178512"
      ]
     },
     "execution_count": 23,
     "metadata": {},
     "output_type": "execute_result"
    }
   ],
   "source": [
    "Q_m3h        = 420\n",
    "H1_highspot  = 30\n",
    "H2_lowspot   = 0\n",
    "Length_pipe  = 200\n",
    "ID_m         = 0.254\n",
    "f_d          = 0.05\n",
    "\n",
    "fillage_calc(Q_m3h, H1_highspot, H2_lowspot, Length_pipe, ID_m, f_d)"
   ]
  },
  {
   "cell_type": "markdown",
   "metadata": {},
   "source": [
    "**References**\n",
    "\n",
    "[1] Yunus Cengel, Fluid Mechanics pg. 777. 4th edition. 2017."
   ]
  },
  {
   "cell_type": "markdown",
   "metadata": {},
   "source": [
    "## Compressible flow\n",
    "### Nominal vs Actual Flow Rate\n",
    "**Formula**\n",
    "$$ PV = nRT $$\n",
    "$$ \\frac{P_NV_N}{T_N} = \\frac{P_AV_A}{T_A} $$\n",
    "$$ V_A = \\frac{P_NV_NT_A}{P_AT_N} $$\n",
    "$$ V_N = \\frac{P_AV_AT_N}{P_NT_A}$$\n",
    "**Parameters**\n",
    "- $P_N$ : float\n",
    "    - Standard Pressure = 101.3, [kPa]\n",
    "- $T_N$ : float\n",
    "    - Standard Temperature = 273.16, [K]\n",
    "- $V_N$ : float\n",
    "    - Nominal Flow Rate, [Nm³/h]\n",
    "- $P_A$ : float\n",
    "    - Fluid Pressure, [kPa]\n",
    "- $T_A$ : float\n",
    "    - Fluid Temperature, [K]\n",
    "- $V_A$ : float\n",
    "    - Actual Flow Rate, [m³/h]\n",
    "\n",
    "**Returns**\n",
    "- K : float\n",
    "    - Flow Discharge Factor, [-]\n",
    "\n",
    "**Python Equation**"
   ]
  },
  {
   "cell_type": "code",
   "execution_count": 24,
   "metadata": {},
   "outputs": [],
   "source": [
    "def find_VA(V_n, T_a, P_a):\n",
    "    return (101.3 * V_n * T_a)/(P_a* 273.16)\n",
    "\n",
    "def find_VN(V_a, T_a, P_a):\n",
    "    return (P_a * V_n * 273.16)/(101.3 * T_a)"
   ]
  },
  {
   "cell_type": "markdown",
   "metadata": {},
   "source": [
    "**Example**"
   ]
  },
  {
   "cell_type": "code",
   "execution_count": 25,
   "metadata": {},
   "outputs": [
    {
     "data": {
      "text/plain": [
       "3689.4854376921944"
      ]
     },
     "execution_count": 25,
     "metadata": {},
     "output_type": "execute_result"
    }
   ],
   "source": [
    "\n",
    "V_n = 21889         # Nm3/h\n",
    "T_a = 45 + 273.16   # K\n",
    "P_a = 700           # kPa\n",
    "\n",
    "find_VA(V_n = V_n, T_a = T_a, P_a = P_a)\n"
   ]
  },
  {
   "cell_type": "markdown",
   "metadata": {},
   "source": [
    "## Water Conductivity\n",
    "TDS or Total Dissolved Solids is a measure of the total ions in solution. EC is actually a measure of the ionic activity of a solution in term of its capacity to transmit current. In dilute solution, TDS and EC are reasonably comparable. The TDS of a water sample based on the measured EC value can be calculated using the following equation:\n",
    "\n",
    "**Formula**\n",
    "$$ TDS = 640 * EC $$\n",
    "**Parameters**\n",
    "- $EC$ : float\n",
    "    - Electrical conductivity (EC), [mS/cm]\n",
    "\n",
    "**Returns**\n",
    "- TDS : float\n",
    "    - Total Dissolved Solids, [mg/L]\n",
    "\n",
    "**Python Equation**"
   ]
  },
  {
   "cell_type": "code",
   "execution_count": 26,
   "metadata": {},
   "outputs": [],
   "source": [
    "def water_conductivity(EC):\n",
    "    return 640 * EC"
   ]
  },
  {
   "cell_type": "markdown",
   "metadata": {},
   "source": [
    "**Example**"
   ]
  },
  {
   "cell_type": "code",
   "execution_count": 27,
   "metadata": {},
   "outputs": [
    {
     "data": {
      "text/plain": [
       "12.8"
      ]
     },
     "execution_count": 27,
     "metadata": {},
     "output_type": "execute_result"
    }
   ],
   "source": [
    "EC = 0.02 # 20 uS/cm\n",
    "\n",
    "water_conductivity(EC)"
   ]
  },
  {
   "cell_type": "markdown",
   "metadata": {},
   "source": [
    "**References**\n",
    "\n",
    "[Water Conductivity](https://www.lenntech.com/calculators/conductivity/tds_engels.htm)"
   ]
  },
  {
   "cell_type": "markdown",
   "metadata": {},
   "source": [
    "# Slurry"
   ]
  },
  {
   "cell_type": "markdown",
   "metadata": {},
   "source": [
    "## Slurry Concentrations"
   ]
  },
  {
   "cell_type": "markdown",
   "metadata": {},
   "source": [
    "### SG & Concentration Conversions\n",
    "For any slurries, when any three of the five variables are known, the fourth and fifth may be calculated from the equations shown below. Alternatively the diagram below may be used for the same purpose although that diagram cannot be used to calculate Sw.\n",
    "\n",
    "<center><img src=\"images/slurry_conversions.png\" width=\"700\"></center>\n",
    "\n",
    "**Equations**\n",
    "\n",
    "| Find  | No 1.                                 | No. 2                         | No. 3                                 |\n",
    "|:----: |    :----:                             |    :----:                     |    :----:                             |\n",
    "| $S_w$ | $$ S(S_m C_w–S_m) / (S_m C_w–S) $$    | $$ (S C_v–S_m) / (C_v–1) $$   | $$ S[C_v(C_w–1)] / [C_w(C_v–1)] $$    |\n",
    "| $S$   | $$ S_w C_w(C_v–1) / [C_v(C_w–1)] $$   | $$ S_w+(S_m–S_w) / C_v $$     | $$ S_wC_w / (C_w–1+S_w/S_m) $$        |\n",
    "| $S_m$ | $$ S_w / [1–C_w(1–S_w/S)] $$          | $$ S_w+C_v(S–S_w) $$          | $$ S_w(C_v–1) / (C_w–1) $$            |\n",
    "| $C_w$ | $$ S(S_m–S_w) / [S_m(S–S_w)] $$       | $$ SC_v / [S_w+C_v(S–S_w)] $$ | $$ 1+S_w(C_v–1) / S_m $$              |\n",
    "| $C_v$ | $$ (S_m–S_w) / (S–S_w) $$             | $$ S_w / (S_w–S+S/C_w) $$     | $$ 1+S_m(C_w–1) / S_w $$              |\n",
    "\n",
    "**Parameters**\n",
    "- $S_w$ : float\n",
    "    - SG of liquid, usually water at 20°C = 1, [-]\n",
    "- $S$ : float\n",
    "    - SG of dry solids, [-]\n",
    "- $S_m$ : float\n",
    "    - SG of slurry, [-]\n",
    "- $C_w$ : float\n",
    "    - Concentration of solids in slurry, by weight, [%]\n",
    "- $C_v$ : float\n",
    "    - Concentration of solids in slurry, by true volume [%]\n",
    "\n",
    "**Returns**\n",
    "- Various\n",
    "\n",
    "**Python Equation**"
   ]
  },
  {
   "cell_type": "code",
   "execution_count": 28,
   "metadata": {},
   "outputs": [],
   "source": [
    "def slurry_convert(Sw=None, S=None, Sm=None, Cw=None, Cv=None):\n",
    "    list = [Sw, S, Sm, Cw, Cv]\n",
    "    test = [v is None for v in list]\n",
    "    if sum(test) == 2:\n",
    "        if list[0] is None:\n",
    "            if not any([test[2], test[3]]):\n",
    "                return {'Sw': [S*(Sm*Cw-Sm)/(Sm*Cw-S)]}\n",
    "            if not any([test[2], test[4]]):\n",
    "                return {'Sw': [(S*Cv-Sm)/(Cv-1)]}\n",
    "            if not any([test[3], test[4]]):\n",
    "                return {'Sw': [S*(Cv*(Cw-1))/(Cw*(Cv-1))]}\n",
    "        else:\n",
    "            if not any([test[3], test[4]]):\n",
    "                return {'S': Sw*Cw*(Cv-1)/(Cv*(Cw-1)), 'Sm': Sw*(Cv-1)/(Cw-1)}\n",
    "            if not any([test[2], test[4]]):\n",
    "                return {'S':Sw+(Sm-Sw)/Cv, 'Cw':1+Sw*(Cv-1)/Sm}\n",
    "            if not any([test[2], test[3]]):\n",
    "                return {'S':Sw*Cw/(Cw-1+Sw/Sm), 'Cv':1+Sm*(Cw-1)/Sw}\n",
    "            if not any([test[1], test[3]]):\n",
    "                return {'Sm':Sw/(1-Cw*(1-Sw/S)), 'Cv':Sw/(Sw-S+S/Cw)}\n",
    "            if not any([test[1], test[4]]):\n",
    "                return {'Sm':Sw+Cv*(S-Sw), 'Cw':S*Cv/(Sw+Cv*(S-Sw))}\n",
    "            if not any([test[1], test[2]]):\n",
    "                return {'Cv':(Sm-Sw)/(S-Sw),'Cw': S*(Sm-Sw)/(Sm*(S-Sw))}\n",
    "    elif sum(test) < 2:\n",
    "        return 'too many variables'\n",
    "    else:\n",
    "        return 'missing variables'"
   ]
  },
  {
   "cell_type": "markdown",
   "metadata": {},
   "source": [
    "**Example**"
   ]
  },
  {
   "cell_type": "code",
   "execution_count": 29,
   "metadata": {},
   "outputs": [
    {
     "data": {
      "text/plain": [
       "{'S': 1.8778625954198473, 'Cv': 0.262}"
      ]
     },
     "execution_count": 29,
     "metadata": {},
     "output_type": "execute_result"
    }
   ],
   "source": [
    "slurry_convert( Sw = 1,         # SG Water\n",
    "                S = None,       # SG Solids\n",
    "                Sm = 1.23,      # SG Slurry\n",
    "                Cw = 0.4,       # %wt\n",
    "                Cv = None)       # %vol"
   ]
  },
  {
   "cell_type": "markdown",
   "metadata": {},
   "source": [
    "**References**\n",
    "\n",
    "[1]: WEIR SLURRY PUMPING MANUAL. 2002."
   ]
  },
  {
   "cell_type": "markdown",
   "metadata": {},
   "source": [
    "### GPL to %Cw & %Cv\n",
    "\n",
    "**Formula**\n",
    "$$ C_v = \\frac{gpl/1000}{S} $$\n",
    "\n",
    "$$ C_w = \\frac{S*gpl}{(gpl+1000S_w)S-gpl*S_w} $$\n",
    "\n",
    "**Parameters**\n",
    "- gpl : float\n",
    "    - Solids concentration in grams per liter of slurry, [g/l]\n",
    "- $S_w$ : float\n",
    "    - SG of liquid, usually water at 20°C = 1, [-]\n",
    "- $S$ : float\n",
    "    - SG of dry solids, [-]\n",
    "\n",
    "**Returns**\n",
    "- $C_w$ : float\n",
    "    - Concentration of solids in slurry, by weight, [%]\n",
    "- $C_v$ : float\n",
    "    - Concentration of solids in slurry, by true volume [%]\n",
    "**Python Equation**"
   ]
  },
  {
   "cell_type": "code",
   "execution_count": 30,
   "metadata": {},
   "outputs": [],
   "source": [
    "def gpl_to_cv(S, gpl):\n",
    "    return (gpl/1000)/S\n",
    "\n",
    "def gpl_to_cw(S, gpl, Sw):\n",
    "    return S*gpl/((gpl+1000*Sw)*S-gpl*Sw)"
   ]
  },
  {
   "cell_type": "markdown",
   "metadata": {},
   "source": [
    "**Example**"
   ]
  },
  {
   "cell_type": "code",
   "execution_count": 31,
   "metadata": {},
   "outputs": [
    {
     "data": {
      "text/plain": [
       "0.699"
      ]
     },
     "execution_count": 31,
     "metadata": {},
     "output_type": "execute_result"
    }
   ],
   "source": [
    "S   = 1\n",
    "gpl = 699\n",
    "Sw  = 1\n",
    "gpl_to_cw(S, gpl, Sw)"
   ]
  },
  {
   "cell_type": "markdown",
   "metadata": {},
   "source": [
    "## Settling Velocity"
   ]
  },
  {
   "cell_type": "markdown",
   "metadata": {},
   "source": [
    "### Oroskar Turian\n",
    "\n",
    "**Formula**\n",
    "$$ V_{OT} = \\sqrt{gd(S-1)} \\left[1.85C_c^{0.1536}(1-C_c)^{0.3564} \\left(\\frac{D}{d}\\right)^{0.378} \\left(\\frac{\\rho{_f}D\\sqrt{gd(S-1)}}{\\mu{_f}} \\right)^{0.09} X^{0.3} \\right] $$\n",
    "\n",
    "**Parameters**\n",
    "- $g$ : float\n",
    "    - Gravitational acceleration = 9.81, [m/s²]\n",
    "- $D$ : float\n",
    "    - Pipe inner diameter, [m]\n",
    "- $d$ : float\n",
    "    - Particle diameter (Coarse d50), [m]\n",
    "- $S$ : float\n",
    "    - Ratio of the coarse solid density to carrier fluid density $\\rho{_S}/\\rho{_f}$, [-]\n",
    "- $C_c$ : float\n",
    "    - The coarse particle volume fraction (i.e., particles exceeding 74 μm), [%]\n",
    "- $\\rho{_f}$ : float\n",
    "    - Carrier fluid, including fines density, [kg/m³]\n",
    "- $\\mu{_f}$ : float\n",
    "    - Carrier fluid dynamic viscosity, [Pa.s]\n",
    "- $X$ : float\n",
    "    - Hindered settling factor = 1, [-]\n",
    "\n",
    "**Returns**\n",
    "- $V_{OT}$ : float\n",
    "    - Oroskar and Turian (1980) critical velocity, [m/s]\n",
    "    \n",
    "**Python Formula**"
   ]
  },
  {
   "cell_type": "code",
   "execution_count": 32,
   "metadata": {},
   "outputs": [],
   "source": [
    "def oroskar(D, d, S, C_c, rho_f, mu_f, X=1, g=9.81):\n",
    "    V_ot = ((g*d*(S-1))**0.5)*\\\n",
    "    (\\\n",
    "        (1.85*C_c**0.1536)*\\\n",
    "        ((1-C_c)**0.3564)*\\\n",
    "        ((D/d)**0.378)*\\\n",
    "        (((rho_f*D*((g*d*(S-1))**0.5))/mu_f)**0.09)*\\\n",
    "        (X**0.3)\n",
    "    )\n",
    "    return V_ot"
   ]
  },
  {
   "cell_type": "markdown",
   "metadata": {},
   "source": [
    "**Example**"
   ]
  },
  {
   "cell_type": "code",
   "execution_count": 33,
   "metadata": {},
   "outputs": [
    {
     "data": {
      "text/plain": [
       "1.4814985790258441"
      ]
     },
     "execution_count": 33,
     "metadata": {},
     "output_type": "execute_result"
    }
   ],
   "source": [
    "D     = 0.2546\n",
    "d     = 0.212E-3\n",
    "rho_f = 1129\n",
    "S     = 2200/rho_f\n",
    "C_c   = 0.12183\n",
    "mu_f  = 0.02\n",
    "\n",
    "oroskar(D, d, S, C_c, rho_f, mu_f, X=1)"
   ]
  },
  {
   "cell_type": "markdown",
   "metadata": {
    "tags": []
   },
   "source": [
    "## Bingham Friction Factor\n",
    "\n",
    "Calculates the Darcy friction factor for a Bingham plastic. Calculated for any Reynolds number, from laminar through turbulent. [1]\n",
    "\n",
    "**Formula**\n",
    "$$ UPDATED ME $$\n",
    "\n",
    "**Parameters**\n",
    "- d_m : float\n",
    "    - Inner Diameter of Pipe, [m]\n",
    "- v : float\n",
    "    - Velocity, [m/s]\n",
    "- rho : float\n",
    "    - Density of Slurry, [kg/m³]\n",
    "- t_0 : float\n",
    "    - Yield stress, [Pa]\n",
    "- mu_b : float\n",
    "    - Plastic Viscocity [Pa.s]\n",
    "\n",
    "**Returns**\n",
    "- f_d : float\n",
    "    - Darcy Friction Factor, [-]\n",
    "\n",
    "**Python Formula**"
   ]
  },
  {
   "cell_type": "code",
   "execution_count": 34,
   "metadata": {},
   "outputs": [],
   "source": [
    "def bingham_darcy_friction_factor(d_m, v, rho, t_0, mu_b):\n",
    "    N_re = d_m*v*rho/mu_b\n",
    "    N_he = d_m**2*rho*t_0/mu_b**2\n",
    "    # Laminar\n",
    "    f_L = 16/N_re*(1+1/6*(N_he/N_re))\n",
    "    for i in range(10):\n",
    "        f_L = 16/N_re*(1+1/6*(N_he/N_re)-((N_he**4)/(3*f_L**3*N_re**7)))  \n",
    "    f_L = 4 * f_L       # Converts to Darcy Friction Factor\n",
    "    # Turbulent\n",
    "    a = -1.47*(1+0.146*math.exp(-2.9*10**-5*N_he))\n",
    "    f_T = 4 * (10**a/N_re**0.193)\n",
    "    # Combine\n",
    "    m = 1.7+40000/N_re\n",
    "    return (f_L**m+f_T**m)**(1/m)"
   ]
  },
  {
   "cell_type": "code",
   "execution_count": 35,
   "metadata": {},
   "outputs": [
    {
     "data": {
      "text/plain": [
       "0.01905007708620241"
      ]
     },
     "execution_count": 35,
     "metadata": {},
     "output_type": "execute_result"
    }
   ],
   "source": [
    "bingham_darcy_friction_factor(0.254, 2.3, 1300, 6, 0.02)"
   ]
  },
  {
   "cell_type": "markdown",
   "metadata": {},
   "source": [
    "**References**\n",
    "\n",
    "[1]: Ron Darby, Chemical Engineering Fluid Mechanics. 2nd edition. 2001."
   ]
  },
  {
   "cell_type": "markdown",
   "metadata": {},
   "source": [
    "# Bulk Materials Handling"
   ]
  },
  {
   "cell_type": "markdown",
   "metadata": {},
   "source": [
    "## Conveyor Belt Sizing"
   ]
  },
  {
   "cell_type": "markdown",
   "metadata": {},
   "source": [
    "### Required Area for Mass Flow\n",
    "\n",
    "The conveyed bulk material cross sectional area, A, can be calculated from the design inputs for tonnage, Q, belt speed, V, bulk density, $\\gamma_m$, and $\\Theta $ = 0 degrees.  [1]\n",
    "\n",
    "**Formula**\n",
    "$$ A = \\frac{Q}{V \\gamma_m} $$\n",
    "\n",
    "**Parameters**\n",
    "- $\\gamma_m$ : float\n",
    "    - Conveyed bulk density, [kg/m³]\n",
    "- $Q$ : float\n",
    "    - Bulk material tonage, [t/h]\n",
    "- $V$ : float\n",
    "    - Belt speed, [m/s]\n",
    "\n",
    "**Returns**\n",
    "- $A$ : float\n",
    "    - Required conveyed cross sectional area, [m²]\n",
    "\n",
    "**Python Formula**"
   ]
  },
  {
   "cell_type": "code",
   "execution_count": 36,
   "metadata": {},
   "outputs": [],
   "source": [
    "def req_conv_area(bulk_density, tonnage, belt_velocity):\n",
    "    return (tonnage * 1000/60/60) / (belt_velocity * bulk_density)"
   ]
  },
  {
   "cell_type": "markdown",
   "metadata": {},
   "source": [
    "**Example**"
   ]
  },
  {
   "cell_type": "code",
   "execution_count": 37,
   "metadata": {},
   "outputs": [
    {
     "data": {
      "text/plain": [
       "0.059087791495198896"
      ]
     },
     "execution_count": 37,
     "metadata": {},
     "output_type": "execute_result"
    }
   ],
   "source": [
    "bulk_density    = 1620\n",
    "tonnage         = 51.69\n",
    "belt_velocity   = 0.15\n",
    "\n",
    "req_conv_area(bulk_density, tonnage, belt_velocity)"
   ]
  },
  {
   "cell_type": "markdown",
   "metadata": {},
   "source": [
    "**References**\n",
    "\n",
    "[1]: CEMA, Belt Conveyors for Bulk Materials. 7th edition. 2014."
   ]
  },
  {
   "cell_type": "markdown",
   "metadata": {},
   "source": [
    "### CEMA Standard Capacity Cross Sectional Area, $A_s$\n",
    "\n",
    "Equation 4.15 is used to calculate, As, for standard CEMA three equal roll roughing idlers based on the average CEMA center roll length circular surcharge surface and the CEMA standard belt edge. [1]\n",
    "\n",
    "**Formula**\n",
    "$$ UPDATED ME $$\n",
    "\n",
    "**Parameters**\n",
    "- BW : float\n",
    "    - Belt Width, [mm]\n",
    "- $\\beta$ : float\n",
    "    - Idler trough angle, [deg]\n",
    "- $\\Phi_s$ : float\n",
    "    - Material surcharge angle, [deg]\n",
    "\n",
    "**Returns**\n",
    "- $A_s$ : float\n",
    "    - CEMA Standard Cross Sectional Area, area based on three equal roll CEMA troughing idler, the surcharge angle with circular top surface, and standard edge distance, [m²]\n",
    "\n",
    "**Python Formula**"
   ]
  },
  {
   "cell_type": "code",
   "execution_count": 38,
   "metadata": {},
   "outputs": [],
   "source": [
    "def cema_area(BW, beta, phi):\n",
    "    beta    = math.radians(beta)            # Convert deg to radians\n",
    "    phi     = math.radians(phi)             # Convert deg to radians\n",
    "    bc      = (0.371 * BW + 6.35)/BW        # Equation 4.11\n",
    "    bw      = (1-bc)/2                      # Equation 4.13\n",
    "    bwe     = (0.055 * BW + 22.9)/BW        # Equation 4.12\n",
    "    bwmc    = bw - bwe\n",
    "    rsch    = ((bc/2)/(math.sin(phi)))+((math.cos(beta)*bwmc)/(math.sin(phi)))\n",
    "    A_s = 2*BW**2 * \\\n",
    "        (rsch**2*((phi/2)-((math.sin(phi)*math.cos(phi))/2)))+\\\n",
    "        ((bc/2) * bwmc * math.sin(beta)) + \\\n",
    "        (bwmc**2 * ((math.sin(beta) * math.cos(beta))/2))\n",
    "    A_s = A_s / 1000**2                 # Convert to m²\n",
    "    return A_s"
   ]
  },
  {
   "cell_type": "markdown",
   "metadata": {},
   "source": [
    "**Example**"
   ]
  },
  {
   "cell_type": "code",
   "execution_count": 39,
   "metadata": {},
   "outputs": [
    {
     "data": {
      "text/plain": [
       "0.09465273981919478"
      ]
     },
     "execution_count": 39,
     "metadata": {},
     "output_type": "execute_result"
    }
   ],
   "source": [
    "BW = 1200\n",
    "beta = 0\n",
    "phi = 30\n",
    "\n",
    "cema_area(BW, beta, phi)"
   ]
  },
  {
   "cell_type": "markdown",
   "metadata": {},
   "source": [
    "**References**\n",
    "\n",
    "[1]: CEMA, Belt Conveyors for Bulk Materials. 7th edition. 2014."
   ]
  },
  {
   "cell_type": "markdown",
   "metadata": {},
   "source": [
    "# Corrosion"
   ]
  },
  {
   "cell_type": "markdown",
   "metadata": {},
   "source": [
    "## PREN - Pitting Resistance Equivalent Number\n",
    "\n",
    "The comparative pitting resistance between corrosion resistant alloys is established using a mathematical relationship based on the critical influence of key alloying elements common to various stainless steel alloys.This mathematical relationship is known as the pitting resistant equivalent number, or PREN. [1][2]\n",
    "\n",
    "**Common PREN Numbers [3]**\n",
    "\n",
    "<center><img src=\"images/PREN.png\" width=\"700\"></center>\n",
    "\n",
    "**Formula**\n",
    "$$ PREN = Cr + 3.3 (Mo + 0.5 W) + 16 N $$\n",
    "\n",
    "**Parameters**\n",
    "- $Cr$ : float\n",
    "    - Chromium chemical composition (nominal), [wt%]\n",
    "- $Mo$ : float\n",
    "    - Molybdenum chemical composition (nominal), [wt%]\n",
    "- $W$ : float\n",
    "    - Tungsten chemical composition (nominal), [wt%]\n",
    "- $N$ : float\n",
    "    - Nitrogen chemical composition (nominal), [wt%]\n",
    "\n",
    "**Returns**\n",
    "- PREN : float\n",
    "    - Pitting Resistance Equivalent Number, [-]\n",
    "\n",
    "**Python Formula**"
   ]
  },
  {
   "cell_type": "code",
   "execution_count": 40,
   "metadata": {},
   "outputs": [],
   "source": [
    "def pren(Cr, Mo, W, N):\n",
    "    return Cr + 3.3 * (Mo + 0.5 * W) + 16 * N"
   ]
  },
  {
   "cell_type": "markdown",
   "metadata": {},
   "source": [
    "**Example**"
   ]
  },
  {
   "cell_type": "code",
   "execution_count": 41,
   "metadata": {},
   "outputs": [
    {
     "data": {
      "text/plain": [
       "51.7"
      ]
     },
     "execution_count": 41,
     "metadata": {},
     "output_type": "execute_result"
    }
   ],
   "source": [
    "Cr = 22 # %\n",
    "Mo = 2 # %\n",
    "W = 14 # %\n",
    "N = 0 # %\n",
    "\n",
    "pren(Cr = Cr, Mo= Mo, W = W, N = N)\n"
   ]
  },
  {
   "cell_type": "markdown",
   "metadata": {},
   "source": [
    "**References**\n",
    "\n",
    "- [1]: Erin D. Mackey & Thomas F. Seacord, [Guidelines for Using Stainless Steel in the Water and Desalination Industries](\"https://doi.org/10.5942/jawwa.2017.109.0044\"). 2017.\n",
    "- [2]: [Pitting resistance equivalent number](\"https://en.wikipedia.org/wiki/Pitting_resistance_equivalent_number\")\n",
    "- [3]: [Learn the Anti-corrosion Code](\"https://www.parker.com/literature/Instrumentation%20Products%20Division/Technical%20Articles/Learn_the-Anti-corrosion_code.pdf\")"
   ]
  },
  {
   "cell_type": "code",
   "execution_count": null,
   "metadata": {},
   "outputs": [],
   "source": []
  }
 ],
 "metadata": {
  "colab": {
   "name": "formulas.ipynb",
   "provenance": [],
   "toc_visible": true
  },
  "kernelspec": {
   "display_name": "Python 3.9.13 ('dev')",
   "language": "python",
   "name": "python3"
  },
  "language_info": {
   "codemirror_mode": {
    "name": "ipython",
    "version": 3
   },
   "file_extension": ".py",
   "mimetype": "text/x-python",
   "name": "python",
   "nbconvert_exporter": "python",
   "pygments_lexer": "ipython3",
   "version": "3.9.13"
  },
  "toc-autonumbering": true,
  "toc-showcode": false,
  "toc-showmarkdowntxt": false,
  "toc-showtags": false,
  "vscode": {
   "interpreter": {
    "hash": "5b5afa7b19aff650b222a30d6454503d25bb4ca5eb41437e06cc4dc87cb61f4b"
   }
  }
 },
 "nbformat": 4,
 "nbformat_minor": 4
}
