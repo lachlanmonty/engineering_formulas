{
 "cells": [
  {
   "cell_type": "markdown",
   "source": [
    "# Engineering Formulas\r\n",
    "Mechanical / piping engineering calculations."
   ],
   "metadata": {}
  },
  {
   "cell_type": "code",
   "execution_count": 1,
   "source": [
    "import numpy as np"
   ],
   "outputs": [],
   "metadata": {}
  },
  {
   "cell_type": "markdown",
   "source": [
    "## Fluid Mechanics"
   ],
   "metadata": {}
  },
  {
   "cell_type": "markdown",
   "source": [
    "### Friction loss through pipe"
   ],
   "metadata": {}
  },
  {
   "cell_type": "markdown",
   "source": [
    "$$ h_L = f\\frac{L}{D}\\frac{V^2}{2g}  $$"
   ],
   "metadata": {}
  },
  {
   "cell_type": "markdown",
   "source": [
    "#### Parameters"
   ],
   "metadata": {}
  },
  {
   "cell_type": "markdown",
   "source": [
    "- d_m : float\r\n",
    "    - Inner Diameter of Pipe, [m]\r\n",
    "- v : float\r\n",
    "    - Velocity, [m/s]\r\n",
    "-rho : float\r\n",
    "        Density of Slurry, [kg/m^3]\r\n",
    "    t_0 : float\r\n",
    "        Yield stress, [Pa]\r\n",
    "    mu_b : float\r\n",
    "        Plastic Viscocity [Pa.s]\r\n",
    "           "
   ],
   "metadata": {}
  },
  {
   "cell_type": "code",
   "execution_count": null,
   "source": [
    "def friction_loss(f_d, L, D, V, g = 9.81):\r\n",
    "    h_l = f_d"
   ],
   "outputs": [],
   "metadata": {}
  }
 ],
 "metadata": {
  "orig_nbformat": 4,
  "language_info": {
   "name": "python",
   "version": "3.8.8",
   "mimetype": "text/x-python",
   "codemirror_mode": {
    "name": "ipython",
    "version": 3
   },
   "pygments_lexer": "ipython3",
   "nbconvert_exporter": "python",
   "file_extension": ".py"
  },
  "kernelspec": {
   "name": "python3",
   "display_name": "Python 3.8.8 64-bit ('dev': conda)"
  },
  "interpreter": {
   "hash": "0ce970cf7d1538104e01c5736b8023836b54c1fab61825c987f0552f70509c78"
  }
 },
 "nbformat": 4,
 "nbformat_minor": 2
}