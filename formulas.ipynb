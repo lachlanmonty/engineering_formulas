{
 "cells": [
  {
   "cell_type": "markdown",
   "source": [
    "# Engineering Formulas\n",
    "Mechanical / piping engineering calculations."
   ],
   "metadata": {
    "id": "Zk2s1MqDKN_x"
   }
  },
  {
   "cell_type": "code",
   "execution_count": 1,
   "source": [
    "import numpy as np\r\n",
    "import pandas as pd"
   ],
   "outputs": [],
   "metadata": {
    "id": "umAbbCJ3KN_0"
   }
  },
  {
   "cell_type": "markdown",
   "source": [
    "# Basics"
   ],
   "metadata": {
    "id": "0Ekyo3ioKN_1"
   }
  },
  {
   "cell_type": "markdown",
   "source": [
    "---\n",
    "## Velocity / Diameter / Flowrate"
   ],
   "metadata": {}
  },
  {
   "cell_type": "markdown",
   "source": [
    "Simply formula manipulation to make it easy to switch between velocity / diameter and flowrate.\n",
    "\n",
    "**Formula**\n",
    "$$ Q = AV  $$\n",
    "\n",
    "**Parameters**\n",
    "- A : float\n",
    "    - Area of pipe, [m²]\n",
    "- V : float\n",
    "    - Velocity, [m/s]\n",
    "\n",
    "**Returns**\n",
    "- Q : float\n",
    "    - Flowrate, [m³/s]\n",
    "\n",
    "**Python Formula**"
   ],
   "metadata": {
    "id": "XhcxIgDDKN_3"
   }
  },
  {
   "cell_type": "code",
   "execution_count": 6,
   "source": [
    "def find_dia(Q_m3h, V_ms):\r\n",
    "    area = Q_m3h / 60 / 60 / V_ms\r\n",
    "    dia_mm = np.sqrt((4*area)/(np.pi)) * 1000\r\n",
    "    return dia_mm\r\n",
    "\r\n",
    "def find_flow(dia_mm, V_ms):\r\n",
    "    area = (np.pi*(dia_mm/1000)**2)/4\r\n",
    "    Q_m3h = V_ms * area * 60 * 60\r\n",
    "    return Q_m3h\r\n",
    "\r\n",
    "def find_vel(dia_mm, Q_m3h):\r\n",
    "    area = (np.pi*(dia_mm/1000)**2)/4\r\n",
    "    V_ms = Q_m3h / 60 / 60 / area\r\n",
    "    return V_ms"
   ],
   "outputs": [],
   "metadata": {
    "id": "nSjZ5OTgKoEe"
   }
  },
  {
   "cell_type": "markdown",
   "source": [
    "**Example**"
   ],
   "metadata": {
    "id": "7LGy2iGsMFPG"
   }
  },
  {
   "cell_type": "code",
   "execution_count": 5,
   "source": [
    "find_vel(dia_mm = 254, Q_m3h = 400)"
   ],
   "outputs": [
    {
     "output_type": "execute_result",
     "data": {
      "text/plain": [
       "2.19280582376665"
      ]
     },
     "metadata": {},
     "execution_count": 5
    }
   ],
   "metadata": {
    "colab": {
     "base_uri": "https://localhost:8080/"
    },
    "id": "SqQx4g3XUlli",
    "outputId": "7031d739-453e-42be-befa-cf8331026ab9"
   }
  },
  {
   "cell_type": "markdown",
   "source": [
    "# Fluid Mechanics"
   ],
   "metadata": {
    "id": "Dru5suOaKN_4"
   }
  },
  {
   "cell_type": "markdown",
   "source": [
    "## Bernoulli's principle"
   ],
   "metadata": {
    "id": "PyntwVvuUCqs"
   }
  },
  {
   "cell_type": "markdown",
   "source": [
    "Bernoulli's principle states that an increase in the speed of a fluid occurs simultaneously with a decrease in static pressure or a decrease in the fluid's potential energy.\r\n",
    "\r\n",
    "**Formula**\r\n",
    "$$ P_1 + \\frac{1}{2} \\rho v_1^2 +\\rho g h_1 = \r\n",
    "  P_2 + \\frac{1}{2} \\rho v_2^2 +\\rho g h_2 $$\r\n",
    "  \r\n",
    "**Parameters**\r\n",
    "- P : float\r\n",
    "   - Pressure Energy, [Pa]\r\n",
    "- $\\rho$ : float\r\n",
    "   - Density of the fluid, [kg/m³]\r\n",
    "- v : float\r\n",
    "   - Velocity of fluid, [m/s]\r\n",
    "- h : float\r\n",
    "  - Physical Height, [m]\r\n",
    "- g : float\r\n",
    "    - Gravitational acceleration = 9.81, [m/s²]"
   ],
   "metadata": {}
  },
  {
   "cell_type": "code",
   "execution_count": 4,
   "source": [
    "def pumphead (delta_h, fric_f, L_m, d_mm , Ktotal, V, P1, P2, rho):\r\n",
    "        return ((P2-P1)*1000/(rho*g)) + (delta_h) + (( fric_f * (L/(d/1000)) + Ktotal ) * ((V**2)/(2*g)))"
   ],
   "outputs": [],
   "metadata": {
    "id": "fJ29aAjCpeLh"
   }
  },
  {
   "cell_type": "markdown",
   "source": [
    "**References**\n",
    "\n",
    "[1] Yunus Cengel, Fluid Mechanics. eq. (8–55). 4th edition. 2017."
   ],
   "metadata": {
    "id": "4qF-ClD1cAv3"
   }
  },
  {
   "cell_type": "markdown",
   "source": [
    "---\r\n",
    "## Friction loss through pipe"
   ],
   "metadata": {}
  },
  {
   "cell_type": "markdown",
   "source": [
    "**Formula**\r\n",
    "$$ h_L = f\\frac{L}{D}\\frac{V^2}{2g}  $$\r\n",
    "**Parameters**\r\n",
    "- f : float\r\n",
    "    - Darcy Friction Factor, [-]\r\n",
    "- L : float\r\n",
    "    - Length of pipe, [m]\r\n",
    "- D : float\r\n",
    "    - Inner diameter of pipe, [m]\r\n",
    "- V : float\r\n",
    "    - Velocity of fluid, [m/s]\r\n",
    "- g : float\r\n",
    "    - Gravitational acceleration = 9.81, [m/s²]\r\n",
    "\r\n",
    "**Returns**\r\n",
    "- h_l : float\r\n",
    "    - Head loss, [m]\r\n",
    "\r\n",
    "**Python Formula**"
   ],
   "metadata": {
    "id": "NsF2vNj6KN_4",
    "tags": [],
    "toc-hr-collapsed": true
   }
  },
  {
   "cell_type": "code",
   "execution_count": 5,
   "source": [
    "def friction_loss(f, L, D, V, g = 9.81):\r\n",
    "    h_l = f * (L/D) * ((V**2) / (2*g))\r\n",
    "    return h_l"
   ],
   "outputs": [],
   "metadata": {
    "id": "KV3FcGeeKN_7"
   }
  },
  {
   "cell_type": "markdown",
   "source": [
    "**Example**"
   ],
   "metadata": {
    "id": "Vl2qZqKBKN_8"
   }
  },
  {
   "cell_type": "code",
   "execution_count": 6,
   "source": [
    "friction_loss(0.019, 1000, 0.254, 2.3)"
   ],
   "outputs": [
    {
     "output_type": "execute_result",
     "data": {
      "text/plain": [
       "20.168637177233574"
      ]
     },
     "metadata": {},
     "execution_count": 6
    }
   ],
   "metadata": {
    "colab": {
     "base_uri": "https://localhost:8080/"
    },
    "id": "gGYshn4NKN_8",
    "outputId": "1e5cce5a-1fc3-4ce6-b53f-0101bf005746"
   }
  },
  {
   "cell_type": "markdown",
   "source": [
    "**References**\r\n",
    "\r\n",
    "[1] Yunus Cengel, Fluid Mechanics. eq. (8-24). 4th edition. 2017."
   ],
   "metadata": {
    "id": "A13TOgE4KN_9"
   }
  },
  {
   "cell_type": "markdown",
   "source": [
    "---\r\n",
    "## Reynolds number\r\n",
    "\r\n",
    "**Formula**\r\n",
    "$$ R_e = \\frac{\\rho V D}{\\mu}  $$\r\n",
    "**Parameters**\r\n",
    "- $\\rho$ : float\r\n",
    "   - Density of the fluid, [kg/m³]\r\n",
    "- $\\mu$ : float\r\n",
    "    - Dynamic viscosity of the fluid, [Pa.s]\r\n",
    "- D : float\r\n",
    "    - Inner diameter of pipe, [m]\r\n",
    "- V : float\r\n",
    "    - Velocity of fluid, [m/s]\r\n",
    "\r\n",
    "**Returns**\r\n",
    "- $R_e$ : float\r\n",
    "    - Reynolds number, [-]\r\n",
    "\r\n",
    "**Python Formula**"
   ],
   "metadata": {}
  },
  {
   "cell_type": "code",
   "execution_count": 14,
   "source": [
    "def re_number(rho, mu, D, V):\r\n",
    "    r_e = (rho * V * D) / mu \r\n",
    "    return r_e"
   ],
   "outputs": [],
   "metadata": {}
  },
  {
   "cell_type": "markdown",
   "source": [
    "**Example**"
   ],
   "metadata": {}
  },
  {
   "cell_type": "code",
   "execution_count": 15,
   "source": [
    "rho = 1100\r\n",
    "mu = 0.01\r\n",
    "D = 0.7366\r\n",
    "V = find_vel(D*1000, 4000)\r\n",
    "\r\n",
    "re_number(rho, mu, D, V)"
   ],
   "outputs": [
    {
     "output_type": "execute_result",
     "data": {
      "text/plain": [
       "211265.49902082825"
      ]
     },
     "metadata": {},
     "execution_count": 15
    }
   ],
   "metadata": {}
  },
  {
   "cell_type": "markdown",
   "source": [
    "**References**\r\n",
    "\r\n",
    "[1] Yunus Cengel, Fluid Mechanics. 4th edition. 2017."
   ],
   "metadata": {}
  },
  {
   "cell_type": "markdown",
   "source": [
    "---\r\n",
    "## Flow Discharge Factor - K Factor"
   ],
   "metadata": {}
  },
  {
   "cell_type": "markdown",
   "source": [
    "**Formula**\n",
    "$$ K_L = \\frac{h_L}{V^2/(2g)} $$\n",
    "\n",
    "**Parameters**\n",
    "- h_L : float\n",
    "    - Head losses through fitting, [m]\n",
    "- V : float\n",
    "    - Velocity of fluid, [m/s]\n",
    "- g : float\n",
    "    - Gravitational acceleration = 9.81, [m/s²]\n",
    "\n",
    "**Returns**\n",
    "- K_L : float\n",
    "    - Flow Discharge Factor, [-]\n",
    "    \n",
    "**Python Formula**"
   ],
   "metadata": {
    "id": "byaBUtVUKN_-"
   }
  },
  {
   "cell_type": "code",
   "execution_count": 7,
   "source": [
    "def k_factor(h_L, V, g = 9.81):\r\n",
    "  K_L = (h_L*2*g)/(V**2)\r\n",
    "  return K_L"
   ],
   "outputs": [],
   "metadata": {
    "id": "aXe9Qq75o69G"
   }
  },
  {
   "cell_type": "markdown",
   "source": [
    "**Example**"
   ],
   "metadata": {
    "id": "pnnZEqqhpX2N"
   }
  },
  {
   "cell_type": "code",
   "execution_count": 8,
   "source": [
    "h = 1790E3 / (1234 * 9.81)\r\n",
    "\r\n",
    "v = find_vel(70.2, 419.5)\r\n",
    "\r\n",
    "k_factor(h, v)\r\n"
   ],
   "outputs": [
    {
     "output_type": "execute_result",
     "data": {
      "text/plain": [
       "3.2006423647444993"
      ]
     },
     "metadata": {},
     "execution_count": 8
    }
   ],
   "metadata": {
    "colab": {
     "base_uri": "https://localhost:8080/"
    },
    "id": "XHrBZqKro5Nf",
    "outputId": "653d8109-16ee-48cb-d788-c42c3489ae63"
   }
  },
  {
   "cell_type": "markdown",
   "source": [
    "**References**\n",
    "\n",
    "[1] Yunus Cengel, Fluid Mechanics. eq. (8–55). 4th edition. 2017."
   ],
   "metadata": {
    "id": "d1HxwyK8qGO2"
   }
  },
  {
   "cell_type": "markdown",
   "source": [
    "---\n",
    "## Relationship Between Flow Coefficient and Resistance Coefficient"
   ],
   "metadata": {}
  },
  {
   "cell_type": "markdown",
   "source": [
    "**Formula**\n",
    "$$ K = 0.00214\\frac{d^4}{C_v^2} $$\n",
    "**Parameters**\n",
    "- d : float\n",
    "    - Diameter, [mm]\n",
    "- C_v : float\n",
    "    - Flow coefficient, [gal/min]\n",
    "\n",
    "**Returns**\n",
    "- K : float\n",
    "    - Flow Discharge Factor, [-]\n",
    "\n",
    "**Python Equation**"
   ],
   "metadata": {}
  },
  {
   "cell_type": "code",
   "execution_count": 9,
   "source": [
    "def flow_to_resist_coef(d, C_v):\n",
    "    K = 0.00214 * ((d**4) / (C_v**2))\n",
    "    return K"
   ],
   "outputs": [],
   "metadata": {}
  },
  {
   "cell_type": "markdown",
   "source": [
    "**Example**"
   ],
   "metadata": {}
  },
  {
   "cell_type": "code",
   "execution_count": 10,
   "source": [
    "flow_to_resist_coef(72.8, 140)"
   ],
   "outputs": [
    {
     "output_type": "execute_result",
     "data": {
      "text/plain": [
       "3.0667842150399993"
      ]
     },
     "metadata": {},
     "execution_count": 10
    }
   ],
   "metadata": {}
  },
  {
   "cell_type": "markdown",
   "source": [
    "**Reference**\n",
    "\n",
    "[Relationship Between Flow Coefficient and Resistance Coefficient](http://kb.eng-software.com/eskb/ask-an-engineer/theory-equations-and-calculated-results-questions/relationship-between-flow-coefficient-and-resistance-coefficient)"
   ],
   "metadata": {}
  },
  {
   "cell_type": "markdown",
   "source": [
    "---\n",
    "## Open Channel Flow"
   ],
   "metadata": {}
  },
  {
   "cell_type": "markdown",
   "source": [
    "**Summary**\n",
    "- Generally target 50% fillage\n",
    "- No single mathematical model to represent slurry flows in open channels\n",
    "- Max practical limit of slurry concentration is 65 wt%\n",
    "\n",
    "**Dimensions**\n",
    "\n",
    "Hydraulic Radius = area of the flow : wetted perimeter\n",
    "$$R_H = \\frac{A}{P}$$\n",
    "Hydraulic Diameter\n",
    "$$D_H = \\frac{4A}{P}$$\n",
    "\n",
    "**Hydraulic Diameter Dimensions**\n",
    "\n",
    "![hydraulic_radius](images/hyd_rad.png)\n",
    "\n",
    "### Froude Number\n",
    "- Is a measure of the stability of flow in an open channel. Ratio of the fluids' inertia to gravity forces.\n",
    "\n",
    "**Slurry**\n",
    "- Below 1.5 there is risk of settling and instability / wavy motion\n",
    "- Above 5 there is risk of [[Slug flow]] which causes instability in the form of roll waves\n",
    "\n",
    "$$1.5 < F_r < 5$$\n",
    "\n",
    "**Water**\n",
    "- Sub-critical flow for water (Fr less than 0.8) is not a problem as there is no risk of settling. Therefore:\n",
    "\n",
    "$$F_r < 0.8 $$ or $$F_r > 1.2$$\n",
    "\n",
    "**Equation**\n",
    "\n",
    "$$F_r =\\frac{V}{\\sqrt{g*y_m}}$$\n",
    "\n",
    "**Parameters**\n",
    "- y_m : float\n",
    "    - Average depth of the liquid, [m]\n",
    "- V : float\n",
    "    - Velocity of fluid, [m/s]\n",
    "- g : float\n",
    "    - Gravitational acceleration = 9.81, [m/s²]\n",
    "\n",
    "**Returns**\n",
    "- Fr : float\n",
    "    -  Froude Number, [-]\n",
    "\n",
    "**Python Equation**\n"
   ],
   "metadata": {}
  },
  {
   "cell_type": "code",
   "execution_count": 8,
   "source": [
    "def froude_no(V, y_m, g = 9.81):\n",
    "    return V / np.sqrt(g * y_m)"
   ],
   "outputs": [],
   "metadata": {}
  },
  {
   "cell_type": "markdown",
   "source": [
    "**References**\n",
    "\n",
    "[1]: SLURRY SYSTEMS HANDBOOK. BAHA E. ABULNAGA, P.E. 2002"
   ],
   "metadata": {}
  },
  {
   "cell_type": "markdown",
   "source": [
    "### Fillage Calculation"
   ],
   "metadata": {}
  },
  {
   "cell_type": "code",
   "execution_count": 9,
   "source": [
    "def fillage_calc(Q_m3h, H1_highspot, H2_lowspot, Length_pipe, ID_m, f_d):\n",
    "   \n",
    "    h_delta = H1_highspot-H2_lowspot\n",
    "    r = ID_m/2         # radius\n",
    "    A_pipe = (np.pi * ID_m ** 2)/4\n",
    "    df = pd.DataFrame(data= {'theta_deg': np.linspace(0.1,180,1800)})\n",
    "    df['theta'] = np.deg2rad(df['theta_deg'])\n",
    "    df['R_h'] = (r*(df['theta']-np.sin(df['theta'])*np.cos(df['theta']))\n",
    "                 )/(2*df['theta'])\n",
    "    df['A_c'] = r**2*(df['theta']-np.sin(df['theta'])*np.cos(df['theta']))\n",
    "    df['y'] = r*(1-np.cos(df['theta']))     # Height of the liquid\n",
    "    df['fillage'] = df['y']/ ID_m *100      # % fillage\n",
    "    df['V_L'] = (Q_m3h/60/60)/(df['A_c'])   # Velocity of the liquid\n",
    "    df['h_fric'] = (f_d * Length_pipe * df['V_L'] **2 )/(2*9.81*4*df['R_h'])\n",
    "        \n",
    "    # Find closest match of fricion loss to the elevation difference\n",
    "    result_index = df['h_fric'].sub(h_delta).abs().idxmin()\n",
    "    # Check Froude Number\n",
    "    Fr = df['V_L'][result_index] / np.sqrt(9.81 * df['y'][result_index])\n",
    "    fillage = df['fillage'][result_index]\n",
    "    \n",
    "    # Assuming that the velocity of the slurry is equal to the air velocity\n",
    "    Q_air = df['V_L'][result_index] * A_pipe * 60 * 60 - Q_m3h\n",
    "    \n",
    "    results = pd.DataFrame({'fillage %':[fillage],\n",
    "                            'Froude No.':[Fr],\n",
    "                            'Velocity':[df['V_L'][result_index]],\n",
    "                            'Vent Air Flow Req. m3/h':[Q_air]})\n",
    "    return results"
   ],
   "outputs": [],
   "metadata": {}
  },
  {
   "cell_type": "code",
   "execution_count": 10,
   "source": [
    "fillage_calc(200, 20, 0, 100, 0.254, 0.05)"
   ],
   "outputs": [
    {
     "output_type": "execute_result",
     "data": {
      "text/html": [
       "<div>\n",
       "<style scoped>\n",
       "    .dataframe tbody tr th:only-of-type {\n",
       "        vertical-align: middle;\n",
       "    }\n",
       "\n",
       "    .dataframe tbody tr th {\n",
       "        vertical-align: top;\n",
       "    }\n",
       "\n",
       "    .dataframe thead th {\n",
       "        text-align: right;\n",
       "    }\n",
       "</style>\n",
       "<table border=\"1\" class=\"dataframe\">\n",
       "  <thead>\n",
       "    <tr style=\"text-align: right;\">\n",
       "      <th></th>\n",
       "      <th>fillage %</th>\n",
       "      <th>Froude No.</th>\n",
       "      <th>Velocity</th>\n",
       "      <th>Vent Air Flow Req. m3/h</th>\n",
       "    </tr>\n",
       "  </thead>\n",
       "  <tbody>\n",
       "    <tr>\n",
       "      <th>0</th>\n",
       "      <td>32.898993</td>\n",
       "      <td>4.225445</td>\n",
       "      <td>3.825737</td>\n",
       "      <td>497.870642</td>\n",
       "    </tr>\n",
       "  </tbody>\n",
       "</table>\n",
       "</div>"
      ],
      "text/plain": [
       "   fillage %  Froude No.  Velocity  Vent Air Flow Req. m3/h\n",
       "0  32.898993    4.225445  3.825737               497.870642"
      ]
     },
     "metadata": {},
     "execution_count": 10
    }
   ],
   "metadata": {}
  },
  {
   "cell_type": "markdown",
   "source": [
    "# Slurry"
   ],
   "metadata": {}
  },
  {
   "cell_type": "markdown",
   "source": [
    "## Settling Veloctiy"
   ],
   "metadata": {}
  },
  {
   "cell_type": "markdown",
   "source": [
    "### Oroskar Turian"
   ],
   "metadata": {}
  },
  {
   "cell_type": "code",
   "execution_count": 1,
   "source": [
    "def oroskar(D, d, S, C_c, rho_f, mu_f, X):\n",
    "    V_ot = ((9.81*d*(S-1))**0.5)*\\\n",
    "    (\\\n",
    "        (1.85*C_c**0.1536)*\\\n",
    "        ((1-C_c)**0.3567)*\\\n",
    "        ((D/d)**0.378)*\\\n",
    "        (((rho_f*D*((9.81*d*(S-1))**0.5))/mu_f)**0.09)*\\\n",
    "        (X**0.3)\n",
    "    )\n",
    "    return V_ot"
   ],
   "outputs": [],
   "metadata": {}
  },
  {
   "cell_type": "markdown",
   "source": [],
   "metadata": {}
  }
 ],
 "metadata": {
  "colab": {
   "name": "formulas.ipynb",
   "provenance": [],
   "toc_visible": true
  },
  "interpreter": {
   "hash": "0ce970cf7d1538104e01c5736b8023836b54c1fab61825c987f0552f70509c78"
  },
  "kernelspec": {
   "name": "python3",
   "display_name": "Python 3.8.8 64-bit ('dev': conda)"
  },
  "language_info": {
   "codemirror_mode": {
    "name": "ipython",
    "version": 3
   },
   "file_extension": ".py",
   "mimetype": "text/x-python",
   "name": "python",
   "nbconvert_exporter": "python",
   "pygments_lexer": "ipython3",
   "version": "3.8.8"
  },
  "toc-autonumbering": true,
  "toc-showcode": false,
  "toc-showmarkdowntxt": false
 },
 "nbformat": 4,
 "nbformat_minor": 4
}