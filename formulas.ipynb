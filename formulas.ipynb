{
 "cells": [
  {
   "cell_type": "markdown",
   "source": [
    "# Engineering Formulas\r\n",
    "Mechanical / piping engineering calculations."
   ],
   "metadata": {}
  },
  {
   "cell_type": "code",
   "execution_count": 2,
   "source": [
    "import numpy as np"
   ],
   "outputs": [],
   "metadata": {}
  },
  {
   "cell_type": "markdown",
   "source": [
    "## Fluid Mechanics"
   ],
   "metadata": {}
  },
  {
   "cell_type": "markdown",
   "source": [
    "### Friction loss through pipe"
   ],
   "metadata": {}
  },
  {
   "cell_type": "markdown",
   "source": [
    "#### Formula"
   ],
   "metadata": {}
  },
  {
   "cell_type": "markdown",
   "source": [
    "$$ h_L = f\\frac{L}{D}\\frac{V^2}{2g}  $$"
   ],
   "metadata": {}
  },
  {
   "cell_type": "markdown",
   "source": [
    "#### Parameters"
   ],
   "metadata": {}
  },
  {
   "cell_type": "markdown",
   "source": [
    "- f : float\r\n",
    "    - Darcy Friction Factor, [-]\r\n",
    "- L : float\r\n",
    "    - Length of pipe, [m]\r\n",
    "- D : float\r\n",
    "    - Inner diameter of pipe, [m]\r\n",
    "- V : float\r\n",
    "    - Velocity of fluid, [m/s]\r\n",
    "- g : float\r\n",
    "    - Gravitational acceleration = 9.81, [m/s²]"
   ],
   "metadata": {}
  },
  {
   "cell_type": "markdown",
   "source": [
    "#### Python Formula"
   ],
   "metadata": {}
  },
  {
   "cell_type": "code",
   "execution_count": 14,
   "source": [
    "def friction_loss(f, L, D, V, g = 9.81):\r\n",
    "\r\n",
    "    h_l = f * (L/D) * ((V**2)/(2*g))\r\n",
    "\r\n",
    "    return h_l"
   ],
   "outputs": [],
   "metadata": {}
  },
  {
   "cell_type": "markdown",
   "source": [
    "#### Example"
   ],
   "metadata": {}
  },
  {
   "cell_type": "code",
   "execution_count": 16,
   "source": [
    "friction_loss(0.019, 100, 0.254, 2.3)"
   ],
   "outputs": [
    {
     "output_type": "execute_result",
     "data": {
      "text/plain": [
       "2.0168637177233575"
      ]
     },
     "metadata": {},
     "execution_count": 16
    }
   ],
   "metadata": {}
  },
  {
   "cell_type": "markdown",
   "source": [
    "#### References"
   ],
   "metadata": {}
  },
  {
   "cell_type": "markdown",
   "source": [
    "[1] Yunus Cengel, Fluid Mechanics. pg. 329. 4th edition. 2017."
   ],
   "metadata": {}
  },
  {
   "cell_type": "markdown",
   "source": [],
   "metadata": {}
  }
 ],
 "metadata": {
  "orig_nbformat": 4,
  "language_info": {
   "name": "python",
   "version": "3.8.8",
   "mimetype": "text/x-python",
   "codemirror_mode": {
    "name": "ipython",
    "version": 3
   },
   "pygments_lexer": "ipython3",
   "nbconvert_exporter": "python",
   "file_extension": ".py"
  },
  "kernelspec": {
   "name": "python3",
   "display_name": "Python 3.8.8 64-bit ('dev': conda)"
  },
  "interpreter": {
   "hash": "0ce970cf7d1538104e01c5736b8023836b54c1fab61825c987f0552f70509c78"
  }
 },
 "nbformat": 4,
 "nbformat_minor": 2
}