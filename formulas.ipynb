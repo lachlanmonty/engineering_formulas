{
  "nbformat": 4,
  "nbformat_minor": 0,
  "metadata": {
    "orig_nbformat": 4,
    "language_info": {
      "name": "python",
      "version": "3.8.8",
      "mimetype": "text/x-python",
      "codemirror_mode": {
        "name": "ipython",
        "version": 3
      },
      "pygments_lexer": "ipython3",
      "nbconvert_exporter": "python",
      "file_extension": ".py"
    },
    "kernelspec": {
      "name": "python3",
      "display_name": "Python 3.8.8 64-bit ('dev': conda)"
    },
    "interpreter": {
      "hash": "0ce970cf7d1538104e01c5736b8023836b54c1fab61825c987f0552f70509c78"
    },
    "colab": {
      "name": "formulas.ipynb",
      "provenance": [],
      "toc_visible": true
    }
  },
  "cells": [
    {
      "cell_type": "markdown",
      "metadata": {
        "id": "Zk2s1MqDKN_x"
      },
      "source": [
        "# Engineering Formulas\n",
        "Mechanical / piping engineering calculations."
      ]
    },
    {
      "cell_type": "code",
      "metadata": {
        "id": "umAbbCJ3KN_0"
      },
      "source": [
        "import numpy as np"
      ],
      "execution_count": 1,
      "outputs": []
    },
    {
      "cell_type": "markdown",
      "metadata": {
        "id": "0Ekyo3ioKN_1"
      },
      "source": [
        "## Basics"
      ]
    },
    {
      "cell_type": "markdown",
      "metadata": {
        "id": "XhcxIgDDKN_3"
      },
      "source": [
        "---\n",
        "### Velocity / Diameter / Flowrate"
      ]
    },
    {
      "cell_type": "markdown",
      "metadata": {
        "id": "w14zK9jNYV7X"
      },
      "source": [
        "Simply formula manipulation to make it easy to switch between velocity / diameter and flowrate."
      ]
    },
    {
      "cell_type": "markdown",
      "metadata": {
        "id": "I3Cdj2gfKN_3"
      },
      "source": [
        "#### Formula"
      ]
    },
    {
      "cell_type": "markdown",
      "metadata": {
        "id": "ynIWK8SlKN_3"
      },
      "source": [
        "$$ Q = AV  $$"
      ]
    },
    {
      "cell_type": "markdown",
      "metadata": {
        "id": "GX8kE_nuX2gl"
      },
      "source": [
        "#### Parameters\n",
        "- A : float\n",
        "    - Area of pipe, [m²]\n",
        "- V : float\n",
        "    - Velocity, [m/s]\n",
        "\n",
        "#### Returns\n",
        "- Q : float\n",
        "    - Flowrate, [m³/s]"
      ]
    },
    {
      "cell_type": "markdown",
      "metadata": {
        "id": "-oheAEzCMMOh"
      },
      "source": [
        "#### Python Formula"
      ]
    },
    {
      "cell_type": "code",
      "metadata": {
        "id": "nSjZ5OTgKoEe"
      },
      "source": [
        "def find_dia(Q_m3h, V_ms):\n",
        "    area = Q_m3h / 60 / 60 / V_ms\n",
        "    dia_mm = np.sqrt((4*area)/(np.pi)) * 1000\n",
        "    return print('Diameter =',round(dia_mm,2),'mm')\n",
        "\n",
        "def find_flow(dia_mm, V_ms):\n",
        "    area = (np.pi*(dia_mm/1000)**2)/4\n",
        "    Q_m3h = V_ms * area * 60 * 60\n",
        "    return print('Flowrate =',round(Q_m3h,2),'m³/s')\n",
        "\n",
        "def find_vel(dia_mm, Q_m3h):\n",
        "    area = (np.pi*(dia_mm/1000)**2)/4\n",
        "    V_ms = Q_m3h / 60 / 60 / area\n",
        "    return print('Velocity =',round(V_ms,2),'m/s')"
      ],
      "execution_count": 13,
      "outputs": []
    },
    {
      "cell_type": "markdown",
      "metadata": {
        "id": "7LGy2iGsMFPG"
      },
      "source": [
        "#### Example"
      ]
    },
    {
      "cell_type": "code",
      "metadata": {
        "colab": {
          "base_uri": "https://localhost:8080/"
        },
        "id": "SqQx4g3XUlli",
        "outputId": "7031d739-453e-42be-befa-cf8331026ab9"
      },
      "source": [
        "find_vel(dia_mm = 20, Q_m3h = 300)"
      ],
      "execution_count": 18,
      "outputs": [
        {
          "output_type": "stream",
          "name": "stdout",
          "text": [
            "Velocity = 265.26 m/s\n"
          ]
        }
      ]
    },
    {
      "cell_type": "markdown",
      "metadata": {
        "id": "Dru5suOaKN_4"
      },
      "source": [
        "## Fluid Mechanics"
      ]
    },
    {
      "cell_type": "markdown",
      "metadata": {
        "id": "NsF2vNj6KN_4"
      },
      "source": [
        "---\n",
        "### Friction loss through pipe"
      ]
    },
    {
      "cell_type": "markdown",
      "metadata": {
        "id": "lv-QUnf8KN_4"
      },
      "source": [
        "#### Formula"
      ]
    },
    {
      "cell_type": "markdown",
      "metadata": {
        "id": "R9u1VwlXKN_6"
      },
      "source": [
        "$$ h_L = f\\frac{L}{D}\\frac{V^2}{2g}  $$"
      ]
    },
    {
      "cell_type": "markdown",
      "metadata": {
        "id": "ex964_GSKN_6"
      },
      "source": [
        "#### Parameters\n",
        "- f : float\n",
        "    - Darcy Friction Factor, [-]\n",
        "- L : float\n",
        "    - Length of pipe, [m]\n",
        "- D : float\n",
        "    - Inner diameter of pipe, [m]\n",
        "- V : float\n",
        "    - Velocity of fluid, [m/s]\n",
        "- g : float\n",
        "    - Gravitational acceleration = 9.81, [m/s²]\n",
        "\n",
        "#### Returns\n",
        "- h_l : float\n",
        "    - Head loss, [m]"
      ]
    },
    {
      "cell_type": "markdown",
      "metadata": {
        "id": "dLLGG_9MKN_6"
      },
      "source": [
        "#### Python Formula"
      ]
    },
    {
      "cell_type": "code",
      "metadata": {
        "id": "KV3FcGeeKN_7"
      },
      "source": [
        "def friction_loss(f, L, D, V, g = 9.81):\n",
        "\n",
        "    h_l = f * (L/D) * ((V**2) / (2*g))\n",
        "\n",
        "    return h_l"
      ],
      "execution_count": null,
      "outputs": []
    },
    {
      "cell_type": "markdown",
      "metadata": {
        "id": "Vl2qZqKBKN_8"
      },
      "source": [
        "#### Example"
      ]
    },
    {
      "cell_type": "code",
      "metadata": {
        "id": "gGYshn4NKN_8",
        "colab": {
          "base_uri": "https://localhost:8080/"
        },
        "outputId": "1e5cce5a-1fc3-4ce6-b53f-0101bf005746"
      },
      "source": [
        "friction_loss(0.019, 1000, 0.254, 2.3)"
      ],
      "execution_count": null,
      "outputs": [
        {
          "output_type": "execute_result",
          "data": {
            "text/plain": [
              "20.168637177233574"
            ]
          },
          "metadata": {},
          "execution_count": 4
        }
      ]
    },
    {
      "cell_type": "markdown",
      "metadata": {
        "id": "A13TOgE4KN_9"
      },
      "source": [
        "#### References\n",
        "[1] Yunus Cengel, Fluid Mechanics. eq. (8-24). 4th edition. 2017."
      ]
    },
    {
      "cell_type": "markdown",
      "metadata": {
        "id": "byaBUtVUKN_-"
      },
      "source": [
        "---\n",
        "### Flow Discharge Factor - K Factor"
      ]
    },
    {
      "cell_type": "markdown",
      "metadata": {
        "id": "m4EnVSp4KN_-"
      },
      "source": [
        "#### Formula"
      ]
    },
    {
      "cell_type": "markdown",
      "metadata": {
        "id": "YmpqbXwXoXtG"
      },
      "source": [
        "$$ K_L = \\frac{h_L}{V^2/(2g)} $$"
      ]
    },
    {
      "cell_type": "markdown",
      "metadata": {
        "id": "3ORuaSleoioN"
      },
      "source": [
        "#### Parameters\n",
        "- h_L : float\n",
        "    - Head losses through fitting, [m]\n",
        "- V : float\n",
        "    - Velocity of fluid, [m/s]\n",
        "- g : float\n",
        "    - Gravitational acceleration = 9.81, [m/s²]\n",
        "\n",
        "#### Returns\n",
        "- K_L : float\n",
        "    - Flow Discharge Factor, [-]"
      ]
    },
    {
      "cell_type": "markdown",
      "metadata": {
        "id": "EwtlD7GAo7Ju"
      },
      "source": [
        "#### Python Formula"
      ]
    },
    {
      "cell_type": "code",
      "metadata": {
        "id": "aXe9Qq75o69G"
      },
      "source": [
        "def k_factor(h_L, V, g = 9.81):\n",
        "  K_L = (h_L*2*g)/(V**2)\n",
        "  return K_L"
      ],
      "execution_count": 20,
      "outputs": []
    },
    {
      "cell_type": "markdown",
      "metadata": {
        "id": "pnnZEqqhpX2N"
      },
      "source": [
        "#### Example"
      ]
    },
    {
      "cell_type": "code",
      "metadata": {
        "colab": {
          "base_uri": "https://localhost:8080/"
        },
        "id": "XHrBZqKro5Nf",
        "outputId": "653d8109-16ee-48cb-d788-c42c3489ae63"
      },
      "source": [
        "k_factor(0.5, 3)"
      ],
      "execution_count": null,
      "outputs": [
        {
          "output_type": "execute_result",
          "data": {
            "text/plain": [
              "1.09"
            ]
          },
          "metadata": {},
          "execution_count": 11
        }
      ]
    },
    {
      "cell_type": "markdown",
      "metadata": {
        "id": "d1HxwyK8qGO2"
      },
      "source": [
        "#### References\n",
        "[1] Yunus Cengel, Fluid Mechanics. eq. (8–55). 4th edition. 2017."
      ]
    },
    {
      "cell_type": "markdown",
      "metadata": {
        "id": "PyntwVvuUCqs"
      },
      "source": [
        "---\n",
        "### Bernoulli's principle\n",
        "Bernoulli's principle states that an increase in the speed of a fluid occurs simultaneously with a decrease in static pressure or a decrease in the fluid's potential energy."
      ]
    },
    {
      "cell_type": "markdown",
      "metadata": {
        "id": "zY975A1oVgH-"
      },
      "source": [
        "#### Formula"
      ]
    },
    {
      "cell_type": "markdown",
      "metadata": {
        "id": "1XYF0vyxVnEQ"
      },
      "source": [
        "$$ P_1 + \\frac{1}{2} \\rho v_1^2 +\\rho g h = \n",
        "  P_2 + \\frac{1}{2} \\rho v_2^2 +\\rho g h $$"
      ]
    },
    {
      "cell_type": "markdown",
      "metadata": {
        "id": "RPLK_jntWmpC"
      },
      "source": [
        "#### Parameters\n",
        "- P : float\n",
        "   - Pressure Energy, [Pa]\n",
        "- $\\rho$ : float\n",
        "   - Density of the fluid, [kg/m³]\n",
        "- v : float\n",
        "   - Velocity of fluid, [m/s]\n",
        "- h : float\n",
        "  - Physical Height, [m]\n",
        "- g : float\n",
        "    - Gravitational acceleration = 9.81, [m/s²]"
      ]
    },
    {
      "cell_type": "code",
      "metadata": {
        "id": "fJ29aAjCpeLh"
      },
      "source": [
        "def pumphead (delta_h, fric_f, L_m, d_mm , Ktotal, V, P1, P2, rho):\n",
        "        return ((P2-P1)*1000/(rho*g)) + (delta_h) + (( fric_f * (L/(d/1000)) + Ktotal ) * ((V**2)/(2*g)))"
      ],
      "execution_count": 19,
      "outputs": []
    },
    {
      "cell_type": "markdown",
      "metadata": {
        "id": "4qF-ClD1cAv3"
      },
      "source": [
        "#### References\n",
        "[1] Yunus Cengel, Fluid Mechanics. eq. (8–55). 4th edition. 2017."
      ]
    },
    {
      "cell_type": "code",
      "metadata": {
        "id": "ICZ0LudhcB9m"
      },
      "source": [
        ""
      ],
      "execution_count": null,
      "outputs": []
    }
  ]
}